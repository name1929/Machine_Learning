{
 "cells": [
  {
   "cell_type": "code",
   "execution_count": 8,
   "metadata": {},
   "outputs": [],
   "source": [
    "from matplotlib import font_manager, rc\n",
    "font_name  = font_manager.FontProperties(fname=\"c:/Windows/Fonts/malgunbd.ttf\").get_name()\n",
    "\n",
    "rc('font', family=font_name)\n",
    "\n",
    "import numpy as np\n",
    "import matplotlib.pyplot as plt\n",
    "from sklearn.datasets import make_blobs # "
   ]
  },
  {
   "cell_type": "code",
   "execution_count": null,
   "metadata": {},
   "outputs": [],
   "source": []
  },
  {
   "cell_type": "code",
   "execution_count": 21,
   "metadata": {},
   "outputs": [],
   "source": [
    "X, y = make_blobs(n_samples=50, centers=2, cluster_std=0.5, random_state=4)"
   ]
  },
  {
   "cell_type": "code",
   "execution_count": 22,
   "metadata": {},
   "outputs": [
    {
     "data": {
      "text/plain": [
       "array([0, 1, 0, 0, 0, 0, 0, 1, 1, 1, 0, 1, 1, 1, 0, 0, 0, 0, 0, 0, 0, 1,\n",
       "       0, 1, 1, 1, 0, 1, 1, 1, 0, 1, 0, 0, 1, 1, 1, 0, 0, 0, 1, 1, 0, 1,\n",
       "       0, 1, 1, 1, 1, 0])"
      ]
     },
     "execution_count": 22,
     "metadata": {},
     "output_type": "execute_result"
    }
   ],
   "source": [
    "y"
   ]
  },
  {
   "cell_type": "code",
   "execution_count": 23,
   "metadata": {},
   "outputs": [],
   "source": [
    "y=2 * y -1"
   ]
  },
  {
   "cell_type": "code",
   "execution_count": 24,
   "metadata": {},
   "outputs": [
    {
     "data": {
      "text/plain": [
       "array([[ 9.24222414,  1.36290933],\n",
       "       [ 9.17124955,  3.52485535],\n",
       "       [ 8.84264231,  1.29144424],\n",
       "       [ 9.13144602,  0.15235637],\n",
       "       [ 8.66686663,  0.93996493],\n",
       "       [ 8.76869749,  1.19960487],\n",
       "       [10.45227689,  1.14179259],\n",
       "       [ 9.4874227 ,  3.93018752],\n",
       "       [ 9.55834394,  4.10909742],\n",
       "       [10.03578098,  4.41764995]])"
      ]
     },
     "execution_count": 24,
     "metadata": {},
     "output_type": "execute_result"
    }
   ],
   "source": [
    "X[0:10]"
   ]
  },
  {
   "cell_type": "code",
   "execution_count": 25,
   "metadata": {},
   "outputs": [
    {
     "data": {
      "text/plain": [
       "array([-1,  1, -1, -1, -1, -1, -1,  1,  1,  1, -1,  1,  1,  1, -1, -1, -1,\n",
       "       -1, -1, -1, -1,  1, -1,  1,  1,  1, -1,  1,  1,  1, -1,  1, -1, -1,\n",
       "        1,  1,  1, -1, -1, -1,  1,  1, -1,  1, -1,  1,  1,  1,  1, -1])"
      ]
     },
     "execution_count": 25,
     "metadata": {},
     "output_type": "execute_result"
    }
   ],
   "source": [
    "y"
   ]
  },
  {
   "cell_type": "code",
   "execution_count": 41,
   "metadata": {
    "scrolled": true
   },
   "outputs": [
    {
     "data": {
      "text/plain": [
       "array([ True, False,  True,  True,  True,  True,  True, False, False,\n",
       "       False,  True, False, False, False,  True,  True,  True,  True,\n",
       "        True,  True,  True, False,  True, False, False, False,  True,\n",
       "       False, False, False,  True, False,  True,  True, False, False,\n",
       "       False,  True,  True,  True, False, False,  True, False,  True,\n",
       "       False, False, False, False,  True])"
      ]
     },
     "execution_count": 41,
     "metadata": {},
     "output_type": "execute_result"
    }
   ],
   "source": [
    "y== -1"
   ]
  },
  {
   "cell_type": "code",
   "execution_count": null,
   "metadata": {},
   "outputs": [],
   "source": []
  },
  {
   "cell_type": "code",
   "execution_count": 32,
   "metadata": {
    "scrolled": false
   },
   "outputs": [
    {
     "data": {
      "text/plain": [
       "(array([ True, False,  True,  True,  True,  True,  True, False, False,\n",
       "        False,  True, False, False, False,  True,  True,  True,  True,\n",
       "         True,  True,  True, False,  True, False, False, False,  True,\n",
       "        False, False, False,  True, False,  True,  True, False, False,\n",
       "        False,  True,  True,  True, False, False,  True, False,  True,\n",
       "        False, False, False, False,  True]), 0)"
      ]
     },
     "execution_count": 32,
     "metadata": {},
     "output_type": "execute_result"
    }
   ],
   "source": [
    "y == -1, 0"
   ]
  },
  {
   "cell_type": "code",
   "execution_count": 49,
   "metadata": {},
   "outputs": [
    {
     "data": {
      "text/plain": [
       "array([[9.24222414, 1.36290933],\n",
       "       [9.17124955, 3.52485535],\n",
       "       [8.84264231, 1.29144424],\n",
       "       [9.13144602, 0.15235637],\n",
       "       [8.66686663, 0.93996493]])"
      ]
     },
     "execution_count": 49,
     "metadata": {},
     "output_type": "execute_result"
    }
   ],
   "source": [
    "X[0:5]"
   ]
  },
  {
   "cell_type": "code",
   "execution_count": 47,
   "metadata": {
    "scrolled": true
   },
   "outputs": [
    {
     "data": {
      "text/plain": [
       "array([ 9.24222414,  8.84264231,  9.13144602,  8.66686663,  8.76869749,\n",
       "       10.45227689,  9.70226758,  9.42054325,  9.55313298,  9.01498386,\n",
       "        8.84910095,  9.73389792,  9.1891148 ,  9.27524446,  9.0167434 ,\n",
       "        9.2024951 ,  8.78780476, 10.38453221,  8.76218865,  9.5067218 ,\n",
       "        9.64993162, 10.15847055,  9.03715314,  9.3645999 , 10.18677564])"
      ]
     },
     "execution_count": 47,
     "metadata": {},
     "output_type": "execute_result"
    }
   ],
   "source": [
    "X[y== -1, 0]"
   ]
  },
  {
   "cell_type": "code",
   "execution_count": 75,
   "metadata": {},
   "outputs": [
    {
     "data": {
      "text/plain": [
       "50"
      ]
     },
     "execution_count": 75,
     "metadata": {},
     "output_type": "execute_result"
    }
   ],
   "source": [
    "len(t_f[0])"
   ]
  },
  {
   "cell_type": "code",
   "execution_count": 76,
   "metadata": {},
   "outputs": [
    {
     "data": {
      "text/plain": [
       "24"
      ]
     },
     "execution_count": 76,
     "metadata": {},
     "output_type": "execute_result"
    }
   ],
   "source": [
    "len(t_f[0]) - sum(y== -1, 1)"
   ]
  },
  {
   "cell_type": "code",
   "execution_count": 77,
   "metadata": {},
   "outputs": [
    {
     "data": {
      "text/plain": [
       "(array([ True, False,  True,  True,  True,  True,  True, False, False,\n",
       "        False,  True, False, False, False,  True,  True,  True,  True,\n",
       "         True,  True,  True, False,  True, False, False, False,  True,\n",
       "        False, False, False,  True, False,  True,  True, False, False,\n",
       "        False,  True,  True,  True, False, False,  True, False,  True,\n",
       "        False, False, False, False,  True]), 1)"
      ]
     },
     "execution_count": 77,
     "metadata": {},
     "output_type": "execute_result"
    }
   ],
   "source": [
    "y == -1, 1"
   ]
  },
  {
   "cell_type": "code",
   "execution_count": 52,
   "metadata": {},
   "outputs": [
    {
     "data": {
      "text/plain": [
       "(array([False,  True, False, False, False, False, False,  True,  True,\n",
       "         True, False,  True,  True,  True, False, False, False, False,\n",
       "        False, False, False,  True, False,  True,  True,  True, False,\n",
       "         True,  True,  True, False,  True, False, False,  True,  True,\n",
       "         True, False, False, False,  True,  True, False,  True, False,\n",
       "         True,  True,  True,  True, False]), 0)"
      ]
     },
     "execution_count": 52,
     "metadata": {},
     "output_type": "execute_result"
    }
   ],
   "source": [
    "y== +1, 0"
   ]
  },
  {
   "cell_type": "code",
   "execution_count": 48,
   "metadata": {
    "scrolled": true
   },
   "outputs": [
    {
     "data": {
      "text/plain": [
       "array([ 1.36290933,  1.29144424,  0.15235637,  0.93996493,  1.19960487,\n",
       "        1.14179259,  0.96771277,  0.3401709 ,  1.11077156,  1.21587064,\n",
       "        0.97186135,  0.02420705,  1.54564628,  1.34568829,  1.24393257,\n",
       "        1.34290093,  1.36356316,  1.40206546,  1.12014356,  0.37090667,\n",
       "        0.90065152,  0.26416219,  1.71813465, -0.23439183,  0.38823891])"
      ]
     },
     "execution_count": 48,
     "metadata": {},
     "output_type": "execute_result"
    }
   ],
   "source": [
    "X[y== -1, 1]"
   ]
  },
  {
   "cell_type": "code",
   "execution_count": 50,
   "metadata": {},
   "outputs": [
    {
     "data": {
      "text/plain": [
       "array([-1,  1, -1, -1, -1, -1, -1,  1,  1,  1, -1,  1,  1,  1, -1, -1, -1,\n",
       "       -1, -1, -1, -1,  1, -1,  1,  1,  1, -1,  1,  1,  1, -1,  1, -1, -1,\n",
       "        1,  1,  1, -1, -1, -1,  1,  1, -1,  1, -1,  1,  1,  1,  1, -1])"
      ]
     },
     "execution_count": 50,
     "metadata": {},
     "output_type": "execute_result"
    }
   ],
   "source": [
    "y"
   ]
  },
  {
   "cell_type": "code",
   "execution_count": 9,
   "metadata": {
    "scrolled": true
   },
   "outputs": [
    {
     "data": {
      "image/png": "[encoded data removed]",
      "text/plain": [
       "<Figure size 720x432 with 1 Axes>"
      ]
     },
     "metadata": {},
     "output_type": "display_data"
    }
   ],
   "source": [
    "plt.scatter(X[y== -1, 0], X[y== -1, 1], marker ='o', label =\"-1 클래스\")\n",
    "plt.scatter(X[y== +1, 0], X[y== +1, 1], marker ='x', label =\"+1 클래스\")\n",
    "plt.xlabel(\"x1\")\n",
    "plt.ylabel(\"x2\")\n",
    "plt.legend()\n",
    "\n",
    "plt.rcParams[\"figure.figsize\"] = (10,6)\n",
    "plt.grid(True)\n",
    "plt.title(\"학습용 데이터\")\n",
    "plt.show()"
   ]
  },
  {
   "cell_type": "code",
   "execution_count": null,
   "metadata": {},
   "outputs": [],
   "source": []
  },
  {
   "cell_type": "markdown",
   "metadata": {},
   "source": [
    "## SVM "
   ]
  },
  {
   "cell_type": "code",
   "execution_count": 28,
   "metadata": {},
   "outputs": [
    {
     "name": "stdout",
     "output_type": "stream",
     "text": [
      "[1 1]\n",
      "[42  1]\n",
      "[[9.03715314 1.71813465]\n",
      " [9.17124955 3.52485535]]\n",
      "[-1  1]\n"
     ]
    }
   ],
   "source": [
    "from sklearn.svm import SVC\n",
    "SVC(kernel = 'linear', C=1e10)\n",
    "\n",
    "model = SVC(kernel='linear', C=1e10).fit(X,y)\n",
    "print(model.n_support_)\n",
    "print(model.support_)\n",
    "print(model.support_vectors_)\n",
    "print(y[model.support_])"
   ]
  },
  {
   "cell_type": "code",
   "execution_count": null,
   "metadata": {},
   "outputs": [],
   "source": []
  },
  {
   "cell_type": "code",
   "execution_count": 42,
   "metadata": {},
   "outputs": [],
   "source": [
    "xmin= X[:,0].min()\n",
    "xmax = X[:,0].max()\n",
    "ymin=X[:,1].min()\n",
    "ymax=X[:,1].max()\n",
    "\n",
    "xx=np.linspace(xmin, xmax, 10)\n",
    "yy =np.linspace(ymin, ymax, 10)\n",
    "\n",
    "X1, X2 = np. meshgrid(xx, yy)"
   ]
  },
  {
   "cell_type": "code",
   "execution_count": 45,
   "metadata": {},
   "outputs": [
    {
     "data": {
      "image/png": "[encoded data removed]",
      "text/plain": [
       "<Figure size 720x432 with 1 Axes>"
      ]
     },
     "metadata": {},
     "output_type": "display_data"
    }
   ],
   "source": [
    "Z = np.empty(X1.shape)\n",
    "for (i,j), val in np.ndenumerate(X1):\n",
    "    x1 = val\n",
    "    x2 = X2[i,j]\n",
    "    p = model.decision_function([[x1, x2]])\n",
    "    Z[i,j] =p[0]\n",
    "levels = [-1, 0, 1]\n",
    "\n",
    "linestyles = ['dashed', 'solid', 'dashed']\n",
    "plt.scatter(X[y== -1, 0], X[y== -1, 1], marker ='o', label =\"-1 클래스\")\n",
    "plt.scatter(X[y== +1, 0], X[y== +1, 1], marker ='x', label =\"+1 클래스\")\n",
    "plt.contour(X1, X2, Z, levels, colors ='k', linestyles =linestyles)\n",
    "plt.scatter(model.support_vectors_[:,0], model.support_vectors_[:,1],\n",
    "           s=300, alpha=0.3)\n",
    "x_new = [10,2]\n",
    "\n",
    "plt.xlabel(\"x1\")\n",
    "plt.ylabel(\"x2\")\n",
    "plt.legend()\n",
    "plt.rcParams[\"figure.figsize\"] = (10, 8)\n",
    "plt.grid(True)\n",
    "plt.title(\"SVM 예측 결과\")\n",
    "\n",
    "plt.show()"
   ]
  },
  {
   "cell_type": "code",
   "execution_count": null,
   "metadata": {},
   "outputs": [],
   "source": []
  }
 ],
 "metadata": {
  "kernelspec": {
   "display_name": "Python 3",
   "language": "python",
   "name": "python3"
  },
  "language_info": {
   "codemirror_mode": {
    "name": "ipython",
    "version": 3
   },
   "file_extension": ".py",
   "mimetype": "text/x-python",
   "name": "python",
   "nbconvert_exporter": "python",
   "pygments_lexer": "ipython3",
   "version": "3.6.5"
  }
 },
 "nbformat": 4,
 "nbformat_minor": 2
}
