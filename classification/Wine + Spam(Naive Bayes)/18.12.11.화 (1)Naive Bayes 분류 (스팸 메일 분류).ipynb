{
 "cells": [
  {
   "cell_type": "markdown",
   "metadata": {},
   "source": [
    "# 나이브 베이즈"
   ]
  },
  {
   "cell_type": "code",
   "execution_count": 1,
   "metadata": {},
   "outputs": [],
   "source": [
    "import pandas as pd\n",
    "import re\n",
    "\n",
    "df = pd.read_csv('sms_spam.csv', encoding='ISO-8859-1' )"
   ]
  },
  {
   "cell_type": "code",
   "execution_count": 2,
   "metadata": {
    "scrolled": true
   },
   "outputs": [
    {
     "name": "stdout",
     "output_type": "stream",
     "text": [
      "<class 'pandas.core.frame.DataFrame'>\n",
      "RangeIndex: 5559 entries, 0 to 5558\n",
      "Data columns (total 2 columns):\n",
      "type    5559 non-null object\n",
      "text    5559 non-null object\n",
      "dtypes: object(2)\n",
      "memory usage: 86.9+ KB\n"
     ]
    }
   ],
   "source": [
    "df.info()"
   ]
  },
  {
   "cell_type": "code",
   "execution_count": 3,
   "metadata": {},
   "outputs": [
    {
     "data": {
      "text/html": [
       "<div>\n",
       "<style scoped>\n",
       "    .dataframe tbody tr th:only-of-type {\n",
       "        vertical-align: middle;\n",
       "    }\n",
       "\n",
       "    .dataframe tbody tr th {\n",
       "        vertical-align: top;\n",
       "    }\n",
       "\n",
       "    .dataframe thead th {\n",
       "        text-align: right;\n",
       "    }\n",
       "</style>\n",
       "<table border=\"1\" class=\"dataframe\">\n",
       "  <thead>\n",
       "    <tr style=\"text-align: right;\">\n",
       "      <th></th>\n",
       "      <th>type</th>\n",
       "      <th>text</th>\n",
       "    </tr>\n",
       "  </thead>\n",
       "  <tbody>\n",
       "    <tr>\n",
       "      <th>0</th>\n",
       "      <td>ham</td>\n",
       "      <td>Hope you are having a good week. Just checking in</td>\n",
       "    </tr>\n",
       "    <tr>\n",
       "      <th>1</th>\n",
       "      <td>ham</td>\n",
       "      <td>K..give back my thanks.</td>\n",
       "    </tr>\n",
       "    <tr>\n",
       "      <th>2</th>\n",
       "      <td>ham</td>\n",
       "      <td>Am also doing in cbe only. But have to pay.</td>\n",
       "    </tr>\n",
       "    <tr>\n",
       "      <th>3</th>\n",
       "      <td>spam</td>\n",
       "      <td>complimentary 4 STAR Ibiza Holiday or Â£10,000...</td>\n",
       "    </tr>\n",
       "    <tr>\n",
       "      <th>4</th>\n",
       "      <td>spam</td>\n",
       "      <td>okmail: Dear Dave this is your final notice to...</td>\n",
       "    </tr>\n",
       "  </tbody>\n",
       "</table>\n",
       "</div>"
      ],
      "text/plain": [
       "   type                                               text\n",
       "0   ham  Hope you are having a good week. Just checking in\n",
       "1   ham                            K..give back my thanks.\n",
       "2   ham        Am also doing in cbe only. But have to pay.\n",
       "3  spam  complimentary 4 STAR Ibiza Holiday or Â£10,000...\n",
       "4  spam  okmail: Dear Dave this is your final notice to..."
      ]
     },
     "execution_count": 3,
     "metadata": {},
     "output_type": "execute_result"
    }
   ],
   "source": [
    "df.head()"
   ]
  },
  {
   "cell_type": "code",
   "execution_count": 4,
   "metadata": {
    "scrolled": true
   },
   "outputs": [
    {
     "data": {
      "text/plain": [
       "'complimentary 4 STAR Ibiza Holiday or Â£10,000 cash needs your URGENT collection. 09066364349 NOW from Landline not to lose out! Box434SK38WP150PPM18+'"
      ]
     },
     "execution_count": 4,
     "metadata": {},
     "output_type": "execute_result"
    }
   ],
   "source": [
    "df['text'][3]"
   ]
  },
  {
   "cell_type": "code",
   "execution_count": 5,
   "metadata": {},
   "outputs": [
    {
     "data": {
      "text/plain": [
       "'complimentary 4 STAR Ibiza Holiday or Â 10 000 cash needs your URGENT collection  09066364349 NOW from Landline not to lose out  Box434SK38WP150PPM18 '"
      ]
     },
     "execution_count": 5,
     "metadata": {},
     "output_type": "execute_result"
    }
   ],
   "source": [
    "text = df['text'][3]\n",
    "text = re.sub('\\W', ' ', text)\n",
    "#  \\W 문자+숫자(alphanumeric)가 아닌 문자와 매치, [^a-zA-Z0-9]와 동일한 표현식 = 즉, 특수문자\n",
    "text"
   ]
  },
  {
   "cell_type": "code",
   "execution_count": 6,
   "metadata": {},
   "outputs": [
    {
     "data": {
      "text/plain": [
       "'complimentary  STAR Ibiza Holiday or Â   cash needs your URGENT collection   NOW from Landline not to lose out  BoxSKWPPPM '"
      ]
     },
     "execution_count": 6,
     "metadata": {},
     "output_type": "execute_result"
    }
   ],
   "source": [
    "text = re.sub('\\d', '', text)\n",
    "# \\d 숫자와 매치, [0-9]와 동일한 표현식\n",
    "# c.f) 대문자와 소문자에 따라 정반대의 결과. 예) \\D 숫자가 아닌 것과 매치, [^0-9]와 동일한 표현\n",
    "text"
   ]
  },
  {
   "cell_type": "code",
   "execution_count": 7,
   "metadata": {},
   "outputs": [
    {
     "data": {
      "text/plain": [
       "'complimentary STAR Ibiza Holiday or Â cash needs your URGENT collection NOW from Landline not to lose out BoxSKWPPPM '"
      ]
     },
     "execution_count": 7,
     "metadata": {},
     "output_type": "execute_result"
    }
   ],
   "source": [
    "text = re.sub('[ \\t]+' , ' ', text)\n",
    "# [ \\t]+ 줄 끝이나 줄 맨앞에 여분의 공백을 일치시킨다.\n",
    "text"
   ]
  },
  {
   "cell_type": "code",
   "execution_count": 8,
   "metadata": {},
   "outputs": [],
   "source": [
    "text = None\n",
    "text"
   ]
  },
  {
   "cell_type": "code",
   "execution_count": 9,
   "metadata": {
    "scrolled": true
   },
   "outputs": [
    {
     "data": {
      "text/html": [
       "<div>\n",
       "<style scoped>\n",
       "    .dataframe tbody tr th:only-of-type {\n",
       "        vertical-align: middle;\n",
       "    }\n",
       "\n",
       "    .dataframe tbody tr th {\n",
       "        vertical-align: top;\n",
       "    }\n",
       "\n",
       "    .dataframe thead th {\n",
       "        text-align: right;\n",
       "    }\n",
       "</style>\n",
       "<table border=\"1\" class=\"dataframe\">\n",
       "  <thead>\n",
       "    <tr style=\"text-align: right;\">\n",
       "      <th></th>\n",
       "      <th>type</th>\n",
       "      <th>text</th>\n",
       "    </tr>\n",
       "  </thead>\n",
       "  <tbody>\n",
       "    <tr>\n",
       "      <th>0</th>\n",
       "      <td>ham</td>\n",
       "      <td>Hope you are having a good week. Just checking in</td>\n",
       "    </tr>\n",
       "    <tr>\n",
       "      <th>1</th>\n",
       "      <td>ham</td>\n",
       "      <td>K..give back my thanks.</td>\n",
       "    </tr>\n",
       "    <tr>\n",
       "      <th>2</th>\n",
       "      <td>ham</td>\n",
       "      <td>Am also doing in cbe only. But have to pay.</td>\n",
       "    </tr>\n",
       "    <tr>\n",
       "      <th>3</th>\n",
       "      <td>spam</td>\n",
       "      <td>complimentary 4 STAR Ibiza Holiday or Â£10,000...</td>\n",
       "    </tr>\n",
       "    <tr>\n",
       "      <th>4</th>\n",
       "      <td>spam</td>\n",
       "      <td>okmail: Dear Dave this is your final notice to...</td>\n",
       "    </tr>\n",
       "  </tbody>\n",
       "</table>\n",
       "</div>"
      ],
      "text/plain": [
       "   type                                               text\n",
       "0   ham  Hope you are having a good week. Just checking in\n",
       "1   ham                            K..give back my thanks.\n",
       "2   ham        Am also doing in cbe only. But have to pay.\n",
       "3  spam  complimentary 4 STAR Ibiza Holiday or Â£10,000...\n",
       "4  spam  okmail: Dear Dave this is your final notice to..."
      ]
     },
     "execution_count": 9,
     "metadata": {},
     "output_type": "execute_result"
    }
   ],
   "source": [
    "df.head()"
   ]
  },
  {
   "cell_type": "code",
   "execution_count": 10,
   "metadata": {},
   "outputs": [
    {
     "data": {
      "text/plain": [
       "'K..give back my thanks.'"
      ]
     },
     "execution_count": 10,
     "metadata": {},
     "output_type": "execute_result"
    }
   ],
   "source": [
    "df['text'][1]"
   ]
  },
  {
   "cell_type": "code",
   "execution_count": 11,
   "metadata": {},
   "outputs": [],
   "source": [
    "text_list = []\n",
    "for i in range(len(df)):\n",
    "    text = df['text'][i]\n",
    "    text = re.sub('[^\\w\\s]', '', text)\n",
    "    text = re.sub('\\d', '', text)\n",
    "    text = re.sub('[ \\t]+' , ' ', text)\n",
    "    text_list.append(text)\n",
    "#     text_list.append(re.split(' ', text))"
   ]
  },
  {
   "cell_type": "code",
   "execution_count": 12,
   "metadata": {},
   "outputs": [
    {
     "data": {
      "text/plain": [
       "'Hope you are having a good week Just checking in'"
      ]
     },
     "execution_count": 12,
     "metadata": {},
     "output_type": "execute_result"
    }
   ],
   "source": [
    "text_list[0]"
   ]
  },
  {
   "cell_type": "code",
   "execution_count": 13,
   "metadata": {
    "scrolled": false
   },
   "outputs": [
    {
     "name": "stdout",
     "output_type": "stream",
     "text": [
      "['Hope you are having a good week Just checking in', 'Kgive back my thanks', 'Am also doing in cbe only But have to pay', 'complimentary STAR Ibiza Holiday or Â cash needs your URGENT collection NOW from Landline not to lose out BoxSKWPPPM', 'okmail Dear Dave this is your final notice to collect your Tenerife Holiday or CASH award Call from landline TCs SAE Box CWWX ppm']\n"
     ]
    }
   ],
   "source": [
    "print(text_list[:5])"
   ]
  },
  {
   "cell_type": "code",
   "execution_count": 14,
   "metadata": {},
   "outputs": [
    {
     "data": {
      "text/plain": [
       "['Hope you are having a good week Just checking in',\n",
       " 'Kgive back my thanks',\n",
       " 'Am also doing in cbe only But have to pay',\n",
       " 'complimentary STAR Ibiza Holiday or Â cash needs your URGENT collection NOW from Landline not to lose out BoxSKWPPPM',\n",
       " 'okmail Dear Dave this is your final notice to collect your Tenerife Holiday or CASH award Call from landline TCs SAE Box CWWX ppm',\n",
       " 'Aiya we discuss later lar Pick u up at is it',\n",
       " 'Are you this much buzy',\n",
       " 'Please ask mummy to call father',\n",
       " 'Marvel Mobile Play the official Ultimate Spiderman game Â on ur mobile right now Text SPIDER to for the game we ll send u a FREE Ball wallpaper',\n",
       " 'fyi Im at usf now swing by the room whenever',\n",
       " 'Sure thing big man i have hockey elections at shouldnt go on longer than an hour though',\n",
       " 'I anything lor',\n",
       " 'By march ending i should be ready But will call you for sure The problem is that my capital never complete How far with you Hows work and the ladies',\n",
       " 'Hmm well night night ',\n",
       " 'K Ill be sure to get up before noon and see whats what',\n",
       " 'Ha ha cool cool chikku chikkuDB',\n",
       " 'Darren was saying dat if u meeting da ge den we dun meet dinner Cos later u leave xy will feel awkward Den u meet him lunch lor',\n",
       " 'He dint tell anything He is angry on me that why you told to abi',\n",
       " 'Up to u u wan come then come lor But i din c any stripes skirt',\n",
       " 'U can WIN Â of Music Gift Vouchers every week starting NOW Txt the word DRAW to TsCs wwwldewcom SkillGameWinaweek ageppermessSubscription',\n",
       " 'mro i am not coming to gym machan Goodnight',\n",
       " 'ARR birthday today i wish him to get more oscar',\n",
       " 'Reading gud habit Nan bari hudgi yorge pataistha ertini kano',\n",
       " 'I sent my scores to sophas and i had to do secondary application for a few schools I think if you are thinking of applying do a research on cost also Contact joke ogunrinde her school is one me the less expensive ones',\n",
       " 'Could you not read me my Love I answered you',\n",
       " 'So what did the bank say about the money',\n",
       " 'Well if Im that desperate Ill just call armand again',\n",
       " 'Fuuuuck I need to stop sleepin sup',\n",
       " 'So hows the weather over there',\n",
       " 'Ok thanx',\n",
       " 'Okok okthenwhats ur todays plan',\n",
       " 'AppleDayNo Doctor Tulsi LeafDayNo Cancer LemonDayNo Fat Cup MilkdayNo Bone Problms Litres WatrDayNo Diseases Snd ths Whom U Care',\n",
       " 'Sorry Ill call later',\n",
       " 'Will do Was exhausted on train this morning Too much wine and pie You sleep well too',\n",
       " 'U have won a nokia plus a free digital camera This is what u get when u win our FREE auction To take part send NOKIA to now POBOXTCRW ',\n",
       " 'Ron say fri leh N he said ding tai feng cant make reservations But he said wait lor',\n",
       " 'Call me when youcarlos isare here my phones vibrate is acting up and I might not hear texts',\n",
       " 'Oh k why you got job then whats up',\n",
       " 'SPJanuary Male Sale Hot Gay chat now cheaper call National rate from pmin cheap to pmin peak To stop texts call pmin',\n",
       " 'Yeah you should I think you can use your gt atm now to register Not sure but if theres anyway i can help let me know But when you do be sure you are ready',\n",
       " 'Nationwide auto centre or something like that on Newport road I liked them there',\n",
       " 'He is there You call and meet him',\n",
       " 'Yeah sure Ill leave in a min',\n",
       " 'URGENT Your Mobile number has been awarded with a Â prize GUARANTEED Call from land line Claim Valid hrs only ppm',\n",
       " 'Mah b Ill pick it up tomorrow',\n",
       " 'Then she dun believe wat',\n",
       " 'Ive sent u my part',\n",
       " 'Hey so whats the plan this sat ',\n",
       " 'Can you just come in for a sec Theres somebody here I want you to see',\n",
       " 'Yup Izzit still raining heavily cos im in e mrt i cant c outside',\n",
       " 'I think were going to finns now come',\n",
       " 'Our Prasanth ettans mother passed away last night Just pray for her and family',\n",
       " 'Enjoy the showers of possessiveness poured on u by ur loved ones bcoz in this world of lies it is a golden gift to be loved truly',\n",
       " 'Hes really into skateboarding now despite the fact that he gets thrown off of it and winds up with bandages all over his arms every five minutes',\n",
       " 'You please give us connection today itself before DECIMAL or refund the bill',\n",
       " 'Congratulations ur awarded of CD vouchers or gift guaranteed Free entry wkly draw txt MUSIC to TnCs wwwLdewcomwinppmxage',\n",
       " 'Mum not going robinson already',\n",
       " 'Got meh When',\n",
       " 'We are both fine Thanks',\n",
       " 'awesome how do I deal with the gate Charles told me last night but uh yeah',\n",
       " 'I thought id get him a watch just cos thats the kind of thing u getanth And he loves so much',\n",
       " 'Have a safe trip to Nigeria Wish you happiness and very soon company to share moments with',\n",
       " 'Hey do u fancy meetin me at at cha hav a lil beverage on me if not txt or ring me and we can meet up lr quite tired got in at vpist love Pete x x x',\n",
       " 'no i didnt mean to post it I wrote it and like so many other times ive ritten stuff to you i let it sit there it WAS what i was feeling at the time I was angry Before i left i hit send then stop It wasnt there I checked on my phone when i got to my car It wasnt there You said you didnt sleep you were bored So why wouldnt THAT be the time to clean fold laundry etc At least make the bed',\n",
       " 'If you want to mapquest it or something look up usf dogwood drive thats the tiny street where the parking lot is',\n",
       " 'Ha ha nan yalrigu heltiniIyo kothi chikku u shared many things wit meso far i didnt told any body and even uttered a word abt u If ur trusting me so much how can i tell these to others Plz nxt time dont use those words to meok chikkuB',\n",
       " 'Becoz its jan whn al the post ofice is in holiday so she cn go fr the post oficegot it duffer',\n",
       " 'Good do you think you could send me some pix I would love to see your top and bottom',\n",
       " 'Beautiful Truth against Gravity Read carefully Our heart feels light when someone is in it But it feels very heavy when someone leaves it GOOD NIGHT',\n",
       " 'Buzz Hey my Love I think of you and hope your day goes well Did you sleep in I miss you babe I long for the moment we are together againloving smile',\n",
       " 'Lara said she can loan me ',\n",
       " 'Dunno leh cant remember mayb lor So wat time r we meeting tmr',\n",
       " 'So wats ur opinion abt him and how abt is character',\n",
       " 'Oh oh Wasted Den muz chiong on sat n sun liao',\n",
       " 'Are you at work right now ',\n",
       " 'Bring home some Wendy D',\n",
       " 'Ok going to sleep Hope i can meet her',\n",
       " 'Allo We have braved the buses and taken on the trains and triumphed I mean were in bham Have a jolly good rest of week',\n",
       " 'Hmmmhow many players selected',\n",
       " 'You flippin out yet',\n",
       " 'Your board is working fine The issue of overheating is also reslove But still software inst is pending I will come around o clock',\n",
       " 'URGENT Your Mobile number has been awarded with a Â prize GUARANTEED Call from land line Claim Valid hrs only ppm',\n",
       " 's of girls many local u who r virgins this r ready fil ur every sexual need Can u fil theirs text CUTE to Âp m',\n",
       " 'Nope Since ayo travelled he has forgotten his guy',\n",
       " 'Hey tmr maybe can meet you at yck',\n",
       " 'Ok im coming home now',\n",
       " 'u called dad oredi',\n",
       " 'Alright Ill head out in a few minutes text me where to meet you',\n",
       " 'deep sigh I miss you I am really surprised you havent gone to the net cafe yet to get to me Dont you miss me',\n",
       " 'Will be office around pm Now i am going hospital',\n",
       " 'ASKED MOBILE IF CHATLINES INCLU IN FREE MINS INDIA CUST SERVs SED YES LER GOT MEGA BILL DONT CARE BAILIFF DUE IN DAYS I O Â WANT Â',\n",
       " 'Yup bathe liao',\n",
       " 'I am getting threats from your sales executive Shifad as i raised complaint against him Its an official message',\n",
       " 'Sthis will increase the chance of winning',\n",
       " 'How are you doing Hows the queen Are you going for the royal wedding',\n",
       " 'Dear reached railway What happen to you',\n",
       " 'Probably gonna swing by in a wee bit',\n",
       " 'K k pa Had your lunch aha',\n",
       " 'Whom you waited for yesterday',\n",
       " 'Urgent Urgent We have FREE flights to Europe to give away call B th Sept take a friend FREE Call now to claim on BANNFWFLYppm',\n",
       " 'For ur chance to win a Â wkly shopping spree TXT SHOP to TsCs wwwtxtshopcom custcare xpwk',\n",
       " 'Ok give me minutes I think I see her BTW youre my alibi You were cutting my hair the whole time',\n",
       " 'At home by the way',\n",
       " 'Have a good evening Ttyl',\n",
       " 'Am watching house âvery entertaining âam getting the whole hugh laurie thing âeven with the stick âindeed especially with the stick',\n",
       " 'But my family not responding for anything Now am in room not went to home for diwali but no one called me and why not coming It makes me feel like died',\n",
       " 'So many people seems to be special at first sight But only very few will remain special to you till your last sight Maintain them till life ends take cr da',\n",
       " 'Shes good How are you Where r u working now',\n",
       " 'Ya i knw u vl givits ok thanks kanoanyway enjoy wit ur family wit st salary',\n",
       " 'Lol you forgot it eh Yes Ill bring it in babe',\n",
       " 'Wow so healthy Old airport rd lor Cant thk of anything else But ill b bathing my dog later',\n",
       " 'This is the nd time we have tried to contact u U have won the Â prize to claim just call b TCsstop SMS ppm',\n",
       " 'have got few things to do may be in pub later',\n",
       " 'Wat u doing now',\n",
       " 'Im a guy browsin is compulsory',\n",
       " 'No i am not having not any movies in my laptop',\n",
       " 'What should i eat fo lunch senor',\n",
       " 'Thank You for callingForgot to say Happy Onam to you SirjiI am fine here and remembered you when i met an insurance personMeet You in Qatar Insha AllahRakhesh ex Tata AIG who joined TISSCOTayseer',\n",
       " 'No im not gonna be able to too late notice ill be home in a few weeks anyway what are the plans',\n",
       " 'AH POOR BABYHOPE URFEELING BETTERSN LUV PROBTHAT OVERDOSE OF WORK HEY GO CAREFUL SPK U SN LOTS OF LOVEJEN XXX',\n",
       " 'Please dont say like that Hi hi hi',\n",
       " 'Really I crashed out cuddled on my sofa',\n",
       " 'Dont show yourself How far Put new pictures up on facebook',\n",
       " 'I know Grumpy old people My mom was like you better not be lying Then again I am always the one to play jokes',\n",
       " 'Boo Im on my way to my moms Shes making tortilla soup Yummmm',\n",
       " 'What not under standing',\n",
       " 'So you think i should actually talk to him Not call his boss in the morning I went to this place last year and he told me where i could go and get my car fixed cheaper He kept telling me today how much he hoped i would come back in how he always regretted not getting my number etc',\n",
       " 'Pls tell nelson that the bbs are no longer comin The money i was expecting aint coming',\n",
       " 'I didnt get anything da',\n",
       " 'I want snow Its just freezing and windy',\n",
       " 'Bishan lar nearer No need buy so early cos if buy now i gotta park my car',\n",
       " 'You stayin out of trouble strangersaw Dave the other day hes sorted nowstill with me bloke when u gona get a girl MRur mum still Thinks we will get GETHA ',\n",
       " 'Ive got any way I could pick up',\n",
       " 'Fancy a shag I doInterested sextextukcom txt XXUK SUZY to Txts cost per msg TnCs on website X',\n",
       " 'U can call me now',\n",
       " 'Eatin my lunch',\n",
       " 'What will we do in the shower baby',\n",
       " 'Leave it wif me lar u wan to carry meh so heavy Is da num familiar to u',\n",
       " 'No just send to you Bec you in temple na',\n",
       " 'After completed degree There is no use in joining finance',\n",
       " 'Hi You just spoke to MANEESHA V Wed like to know if you were satisfied with the experience Reply Toll Free with Yes or No',\n",
       " 'alright tylers got a minor crisis and has to be home sooner than he thought so be here asap',\n",
       " 'Do I I thought I put it back in the box',\n",
       " 'I have many dependents',\n",
       " 'Once a fishrman woke early in d mrng It was very dark He waited a while found a sack ful of stones He strtd throwin thm in d sea pass time Atlast he had jus stone sun rose up he found out tht those r nt stones those were diamonds MoralDont wake up early in d mrng GOOD night',\n",
       " 'HelloHow u doingWhat u been up When will u b moving out of the flat cos I will need to arrange to pick up the lamp etc Take care Hello caroline',\n",
       " 'Hello darlin ive finished college now so txt me when u finish if u can love Kate xxx',\n",
       " 'Jus chillaxin what up',\n",
       " 'No break time one How I come out n get my stuff fr u',\n",
       " 'Dear Dave this is your final notice to collect your Tenerife Holiday or CASH award Call from landline TCs SAE Box CWWX ppm',\n",
       " 'Ok Let u noe when i leave my house',\n",
       " 'Ive been searching for the right words to thank you for this breather I promise i wont take your help for granted and will fulfil my promise You have been wonderful and a blessing at all times',\n",
       " 'Midnight at the earliest',\n",
       " 'Pls ask macho how much is budget for bb bold is cos i saw a new one for dollars',\n",
       " 'U should make a fb list',\n",
       " 'Princess is your kitty shaved or natural',\n",
       " 'Ahhhhjust woken uphad a bad dream about u thoso i dont like u right now i didnt know anything about comedy night but i guess im up for it',\n",
       " 'Hes an adult and would learn from the experience Theres no real danger I just dont like peeps using drugs they dont need But no comment',\n",
       " 'U have a secret admirer who is looking make contact with Ufind out who they Rreveal who thinks UR so specialcall on ',\n",
       " 'You know wot people wear T shirts jumpers hat belt is all we know We r at Cribbs',\n",
       " 'Me fineabsolutly fine',\n",
       " 'How much are we getting',\n",
       " 'Did you try making another butt',\n",
       " ' Congratulations in this weeks competition draw u have won the Â prize to claim just call b TCsstop SMS Over only ppm',\n",
       " 'I am sorry it hurt you',\n",
       " 'Show ur colours Euro Offer Get an England Flag Lions tone on ur phone Click on the following service message for info',\n",
       " 'Ok C u then',\n",
       " 'Ok leave no need to ask',\n",
       " 'Pansy Youve been living in a jungle for two years Its my driving you should be more worried about',\n",
       " 'I remain unconvinced that this isnt an elaborate test of my willpower',\n",
       " 'You have been specially selected to receive a pound award Call BEFORE the lines close Cost ppm TCs apply AG Promo',\n",
       " 'Sorry I missed you babe I was up late and slept in I hope you enjoy your driving lesson boytoy I miss you too teasing kiss',\n",
       " ' p Alfie Moons Children in Need song on ur mob Tell ur ms Txt TONE CHARITY to for nokias or POLY CHARITY for polys zed profit charity ',\n",
       " 'Mm have some kanji dont eat anything heavy ok',\n",
       " 'I dont have any of your file in my bagi was in work when you called mei ll tell you if i find anything in my room',\n",
       " 'Ya very nice be ready on thursday',\n",
       " 'Anything lar',\n",
       " 'Oh thanks a loti already bought eggs ',\n",
       " 'I know complain num onlybettr directly go to bsnl offc nd apply for it',\n",
       " 'No no I will check all rooms befor activities',\n",
       " 'No pic Please resend',\n",
       " 'cThen i thk shd b enuff Still got conclusion n contents pg n references Ill b doing da contents pg n cover pg',\n",
       " 'I donno if they are scorable',\n",
       " 'Send ur birthdate with month and year I will tel u ur LIFE PARTNERS name and the method of calculation Reply must',\n",
       " 'BOO BABE U ENJOYIN YOURJOB U SEEMED B GETTIN ON WELL HUNNYHOPE URE OKTAKE CARE ILLSPEAK U SOONLOTS OF LOVEME XXXX',\n",
       " 'Have you finished work yet ',\n",
       " 'Sunshine Quiz Wkly Q Win a top Sony DVD player if u know which country the Algarve is in Txt ansr to Â SPTyrone',\n",
       " 'Send a logo ur lover names joined by a heart Txt LOVE NAME NAME MOBNO eg LOVE ADAM EVE to Yahoo POBoxWWQ TxtNO no ads p',\n",
       " 'Gud mrng dear hav a nice day',\n",
       " 'You are a very very very very bad girl Or lady',\n",
       " 'In e msg jus now U said thanks for gift',\n",
       " 'its still not working And this time i also tried adding zeros That was the savings The checking is ',\n",
       " 'Aiyah e rain like quite big leh If drizzling i can at least run home',\n",
       " 'I have gone into get info bt dont know what to do',\n",
       " 'Thats a shame Maybe cld meet for few hrs tomo',\n",
       " 'Urgent call from landline Your complementary Tenerife Holiday or Â cash await collection SAE TCs PO Box WA PX ppm Sender Hol Offer',\n",
       " 'Yupz Ive oredi booked slots my weekends liao ',\n",
       " 'Is that on the telly No its Brdget Jones',\n",
       " 'Sorry man my accounts dry or I would if you want we could trade back half or I could buy some stuff with my credit card',\n",
       " 'WELL DONE Your Costa Del Sol Holiday or Â await collection Call Now toClaim SAE TCs POBox Stockport SKxh CostÂpm Maxmins',\n",
       " 'FREE MSGWe billed your mobile number by mistake from shortcode Please call to have charges refundedThis call will be free from a BT landline',\n",
       " 'Gal n boy walking in d park galcan i hold ur hand boyy do u think i would run away galno jst wana c how it feels walking in heaven with an princeGN',\n",
       " 'Come to me slave Your doing it again Going into your shell and unconsciously avoiding me You are making me unhappy ',\n",
       " 'If he started searching he will get job in few dayshe have great potential and talent',\n",
       " 'As in missionary hook up doggy hook up standing',\n",
       " 'Ok anyway no need to change with what you said',\n",
       " ' great loxahatchee xmas tree burning update you can totally see stars here',\n",
       " 'hope things went well at doctors reminds me i still need godid u c d little thing i left in the lounge',\n",
       " 'ELLO BABE U OK',\n",
       " 'u go home liao Ask dad to pick me up at ',\n",
       " 'u say until like dat i dun buy ericsson oso cannot oredi lar',\n",
       " 'Oooh I got plenty of those',\n",
       " 'Whats a feathery bowa Is that something guys have that I dont know about',\n",
       " 'Aight Ill grab something to eat too text me when youre back at mu',\n",
       " 'wiskey Brandy Rum Gin Beer Vodka Scotch Shampain Wine KUDIyarasu dhina vaazhthukkal ',\n",
       " 'Sun ah Thk mayb can if dun have anythin on Thk have to book e lesson E pilates is at orchard mrt u noe hor ',\n",
       " 'I dont know but Im raping dudes at poker',\n",
       " 'When is school starting Where will you stay Whats the weather like And the food Do you have a social support system like friends in the school All these things are important',\n",
       " 'Mm not entirely sure i understood that text but hey Ho Which weekend',\n",
       " 'Last Chance Claim ur Â worth of discount vouchers today Text SHOP to now SavaMob offers mobile T Cs SavaMob POBOX MUZ Â Sub ',\n",
       " 'You are gorgeous keep those pix cumming thank you',\n",
       " 'Prabhaim sorydarealyfrm heart im sory',\n",
       " 'It took Mr owl licks',\n",
       " 'No no I will check all rooms befor activities',\n",
       " 'Alright took the morphine Back in yo',\n",
       " 'Noi got rumour that you going to buy apartment in chennai',\n",
       " 'Youve already got a flaky parent Itsnot supposed to be the childs job to support the parentnot until theyre The Ride age anyway Im supposed to be there to support you And now ive hurt you unintentional But hurt nonetheless',\n",
       " 'Lol ok your forgiven ',\n",
       " 'Hi finally i completed the course',\n",
       " 'Jamster To get your free wallpaper text HEART to now TC apply only Need Help Call ',\n",
       " 'at bruce b downs fletcher now',\n",
       " 'Urgent call from your landline Your complimentary Ibiza Holiday or cash await collection SAE TCs PO BOX SK WP ppm ',\n",
       " 'Yes I posted a couple of pics on fb Theres still snow outside too Im just waking up ',\n",
       " 'Well Balls Time to make calls',\n",
       " 'How about getting in touch with folks waiting for company Just txt back your NAME and AGE to opt in Enjoy the community pSMS',\n",
       " 'Awesome be there in a minute',\n",
       " 'Hey ive booked the lessons on sun liao',\n",
       " 'Santha num corrct dane',\n",
       " 'Is it ok if I stay the night here Xavier has a sleeping bag and Im getting tired',\n",
       " 'O Well uv causes mutations Sunscreen is like essential thesedays',\n",
       " 'Boooo you always work Just quit',\n",
       " 'Can you please ask macho what his price range is does he want something new or used plus it he only interfued in the blackberry bold or any bb',\n",
       " 'In which place i can get rooms cheap',\n",
       " 'So why didnt you holla',\n",
       " 'In case you wake up wondering where I am I forgot I have to take care of something for grandma today should be done before the parade',\n",
       " 'Hai priya are you right What doctor said pa Where are you',\n",
       " 'Is she replying Has boye changed his phone number',\n",
       " 'At what time are you coming',\n",
       " 'I hope your pee burns tonite',\n",
       " 'BIG BROTHER ALERT The computer has selected u for k cash or voucher Call NTT PO Box CRO BT Landline Cost ppm mobiles vary',\n",
       " 'For sale arsenal dartboard Good condition but no doubles or trebles',\n",
       " ' tacos rajas burrito right',\n",
       " 'At the funeral home with Audrey and dad',\n",
       " 'Hurry home u big butt Hang up on your last caller if u have to Food is done and Im starving Dont ask what I cooked',\n",
       " 'I place all ur points on e cultures module already',\n",
       " 'Goin to workout lor Muz lose e fats ',\n",
       " 'Great escape I fancy the bridge but needs her lager See you tomo ',\n",
       " 'Babe How goes that day What are you doing Where are you I sip my cappuccino and think of you my love I send a kiss to you from across the sea',\n",
       " 'What is this hex place you talk of Explain',\n",
       " 'Hes just gonna worry for nothing And he wont give you money its no use',\n",
       " 'Ok is any problem to u frm him Wats matter',\n",
       " 'I am taking half day leave bec i am not well',\n",
       " 'Wishing you and your family Merry X mas and HAPPY NEW Year in advance',\n",
       " 'Yes obviously but you are the eggspert and the potato head Speak soon ',\n",
       " 'Wen did you get so spiritual and deep Thats great',\n",
       " 'Now am free call me pa',\n",
       " 'Dont know you bring some food',\n",
       " 'In which place do you want da',\n",
       " 'Then why you came to hostel',\n",
       " 'Oh ya ya I remember da ',\n",
       " 'Hello Just got here st andrewsboy its a long way Its cold I will keep you posted',\n",
       " 'Long time You remember me today',\n",
       " 'Arun can u transfr me d amt',\n",
       " 'Are you staying in town ',\n",
       " 'Cant believe i said so many things to you this morning when all i really wanted to say was good morning i love you Have a beautiful morning See you in the library later',\n",
       " ' came to look at the flat seems ok in his s Is away alot wiv work Got woman coming at too',\n",
       " 'Camera You are awarded a SiPix Digital Camera call fromm landline Delivery within days',\n",
       " 'Purity of friendship between two is not about smiling after reading the forwarded messageIts about smiling just by seeing the name Gud evng',\n",
       " 'Yup next stop',\n",
       " 'Well done blimey exercise yeah i kinda remember wot that is hmm ',\n",
       " 'URGENT This is the nd attempt to contact UU have WON ÂCALL b tcsBCMWCNXXcallcostppmmobilesvary maxÂ ',\n",
       " 'K if u bored up just come to my home',\n",
       " 'When did i use soc I use it only at home u dunno how type it in word ar',\n",
       " 'Unlimited texts Limited minutes',\n",
       " 'Im going out to buy mums present ar',\n",
       " 'Haha Really oh no How Then will they deduct your lesson tmr',\n",
       " 'Don no dawhats you plan',\n",
       " 'Im very happy for you babe Woo hoo party on dude',\n",
       " 'And is there a way you can send shades stuff to her And she has been wonderful too',\n",
       " 'Sorry man my stash ran dry last night and I cant pick up more until sunday',\n",
       " 'You still at the game',\n",
       " 'Cheers for the card Is it that time of year already',\n",
       " 'Oh shut it Omg yesterday I had a dream that I had kids both boys I was so pissed Not only about the kids but them being boys I even told mark in my dream that he was changing diapers cause Im not getting owed in the face',\n",
       " 'Carlos says hell be at mu in minutes',\n",
       " 'A Boy loved a gal He propsd bt she didnt mind He gv lv lttrs Bt her frnds threw thm Again d boy decided aproach d gal dt time a truck was speeding towards d gal Wn it was about hit d girld boy ran like hell n saved her She asked hw cn u run so fast D boy replied Boost is d secret of my energy n instantly d girl shouted our energy n Thy lived happily gthr drinking boost evrydy Moral of d story I hv free msgsD gud ni',\n",
       " 'Im home my love If your still awake loving kiss',\n",
       " 'Tell your friends what you plan to do on Valentines day URL',\n",
       " 'Ok lor u reaching then message me',\n",
       " 'Booked ticket for pongal',\n",
       " 'Watching tv lor Nice one then i like lor',\n",
       " 'Hi missed your Call and my mumHas beendropping red wine all over theplace what is your adress',\n",
       " 'Guess what Somebody you know secretly fancies you Wanna find out who it is Give us a call on From Landline DATEBoxEssexCMXN pmin ',\n",
       " 'Oh yeah clearly its my fault',\n",
       " 'MMM Merry Christmas to me',\n",
       " 'Call to the number which is available in appointment And ask to connect the call to waheed fathima',\n",
       " 'I promise to take good care of you princess I have to run now Please send pics when you get a chance Ttyl',\n",
       " 'haha but no money leh Later got to go for tuition Haha and looking for empty slots for driving lessons',\n",
       " 'Your free ringtone is waiting to be collected Simply text the password MIX to to verify Get Usher and Britney FML PO Box MK H Ppw ',\n",
       " 'Christmas is An occasion that is Celebrated as a Reflection of UR Values Desires Affections Traditions Have an ideal Christmas',\n",
       " 'May i call You later Pls',\n",
       " 'Oh U must have taken your REAL Valentine out shopping first',\n",
       " 'marrow only Wed at to aha',\n",
       " 'For me the love should start with attractioni should feel that I need her every time around meshe should be the first thing which comes in my thoughtsI would start the day and end it with hershe should be there every time I dreamlove will be then when my every breath has her namemy life should happen around hermy life will be named to herI would cry for herwill give all my happiness and take all her sorrowsI will be ready to fight with anyone for herI will be in love when I will be doing the craziest things for herlove will be when I dont have to proove anyone that my girl is the most beautiful lady on the whole planetI will always be singing praises for herlove will be when I start up making chicken curry and end up makiing sambarlife will be the most beautiful thenwill get every morning and thank god for the day because she is with meI would like to say a lotwill tell later',\n",
       " 'Love has one law Make happy the person you love In the same way friendship has one law Never make ur friend feel alone until you are alive Gud night',\n",
       " 'Well then you have a great weekend',\n",
       " 'Hello darling how are you today I would love to have a chat why dont you tell me what you look like and what you are in to sexy',\n",
       " 'Im working technical support voice processnetworking field',\n",
       " 'i am seeking a lady in the street and a freak in the sheets Is that you',\n",
       " 'Wat time liao where still got',\n",
       " 'Each Moment in a dayhas its own valueMorning brings hopeafternoon brings faithEvening brings luvNight brings restWish u find them all todayGood Morning',\n",
       " 'Have you emigrated or something Ok maybe was a bit hopeful',\n",
       " 'Ill always be there even if its just in spirit Ill get a bb soon Just trying to be sure i need it',\n",
       " 'My friends use to call the same',\n",
       " 'Kkwhat are detail you want to transferacc no enough',\n",
       " 'The g that i saw a few days ago the guy wants sell wifi only for and with g for Thats why i blanked him',\n",
       " 'I think its all still in my car',\n",
       " 'Lol I know Hey someone did a great inpersonation of flea on the forums I love it',\n",
       " 'sexy sexy cum and text me im wet and warm and ready for some porn u up for some fun THIS MSG IS FREE RECD MSGS P INC VAT CANCEL TEXT STOP',\n",
       " 'In life when you face choices Just toss a coin not becoz its settle the question But while the coin in the air U will know what your heart is hoping for Gudni',\n",
       " 'Yo im right by yo work',\n",
       " 'In fact when do you leave I think addie goes back to school tues or wed',\n",
       " 'Hey i booked the kb on sat already what other lessons are we going for ah Keep your sat night free we need to meet and confirm our lodging ',\n",
       " 'Text meet someone sexy today U can find a date or even flirt its up to U Join just p REPLY with NAME AGE eg Sam msg recdthirtyeight pence',\n",
       " 'Freemsg month unlimited free calls Activate SmartCall Txt CALL to No Subscriptngbpwk unlimited calls Help Stoptxt stop landlineonly',\n",
       " 'Ill get there tomorrow and send it to you',\n",
       " ' ow u deyi paid thousadi told u would call ',\n",
       " 'K Ill take care of it',\n",
       " 'Watching tv now I got new job ',\n",
       " 'SYMPTOMS when U are in love U like listening songs U get stopped where u see the name of your beloved U wont get angry when your',\n",
       " 'Dude got a haircut Now its breezy up there',\n",
       " 'And maybe some pressies',\n",
       " 'Haha good to hear Im officially paid and on the market for an th',\n",
       " 'Yeah probably earlier than that',\n",
       " 'Im done Just studyn in library',\n",
       " 'Yo call me when you get the chance a friend of mine wanted me to ask you about a big order',\n",
       " 'Ill probably be around mu a lot',\n",
       " 'is your hamster dead Hey so tmr i meet you at pm orchard mrt ',\n",
       " 'Wait min',\n",
       " 'Sweet heart how are you',\n",
       " 'In the end she might still vomit but its okay Not everything will come out',\n",
       " 'Thats very rude you on campus',\n",
       " 'So do you have samus shoulders yet',\n",
       " 'Ok i msg u b i leave my house',\n",
       " 'What do U want for Xmas How about free text messages a new video phone with half price line rental Call free now on to find out more',\n",
       " 'I dont have that much image in class',\n",
       " 'My friend just got here and says hes upping his order by a few grams hes got when can you get here',\n",
       " 'Moby Pub QuizWin a Â High Street prize if u know who the new Duchess of Cornwall will be Txt her first name to unsub STOP Â SP Arrow',\n",
       " 'Hi My engagement has been fixd on th of next month I know its really shocking bthmm njan vilikkamt ws al of a sudn',\n",
       " 'You can stop further club tones by replying STOP MIX See mytonecomenjoy html for terms Club tones cost GBPweek MFL PO Box MK WT ',\n",
       " 'URGENT This is our nd attempt to contact U Your Â prize from YESTERDAY is still awaiting collection To claim CALL NOW ACLPM',\n",
       " 'Yup i shd haf ard pages if i add figures u all got how many pages',\n",
       " 'Ok thanx',\n",
       " 'Aight tomorrow around it is',\n",
       " 'Is toshiba portege m gd',\n",
       " 'Join the UKs horniest Dogging service and u can have sex nite Just sign up and follow the instructions Txt ENTRY to now NytECALPmsgp',\n",
       " 'Thats cool I am a gentleman and will treat you with dignity and respect',\n",
       " 'Sat right Okay thanks ',\n",
       " 'Okie Thanx',\n",
       " 'Wifehow she knew the time of murder exactly',\n",
       " 'Thanks for your ringtone order reference number X Your mobile will be charged Should your tone not arrive please call customer services From colourredtextcolourTXTstar',\n",
       " 'God picked up a flower and dippeditinaDEW lovingly touched itwhichturnedinto u and the he gifted tomeandsaidTHIS FRIEND IS U',\n",
       " 'Ah poop Looks like ill prob have to send in my laptop to get fixed cuz it has a gpu problem',\n",
       " 'Yes fine ',\n",
       " 'Finally it has happened Aftr decades BEER is now cheaper than PETROL The goverment expects us to DRINK But dont DRIVE ',\n",
       " 'Havent eaten all day Im sitting here staring at this juicy pizza and I cant eat it These meds are ruining my life',\n",
       " 'Thankyou so much for the call I appreciate your care',\n",
       " 'Kkhow is your sister kids',\n",
       " 'Sorry Ill call later',\n",
       " 'Do u konw waht is rael FRIENDSHIP Im gving yuo an exmpel Jsut ese tihs msg Evrey splleing of tihs msg is wrnog Bt sitll yuo can raed it wihtuot ayn mitsake GOODNIGHT HAVE A NICE SLEEPSWEET DREAMS',\n",
       " 'Happy new years melody',\n",
       " 'Dear good morning how you feeling dear',\n",
       " 'All boys made fun of me today Ok i have no problem I just sent one message just for fun',\n",
       " 'Its ok i just askd did u knw tht no',\n",
       " 'U R THE MOST BEAUTIFUL GIRL IVE EVER SEEN U R MY BABY COME AND C ME IN THE COMMON ROOM',\n",
       " 'URGENT Your mobile No xxx WON a Â Bonus Caller Prize on This is the nd attempt to reach YOU Call ASAP BOXNQP ppm',\n",
       " 'Well I meant as opposed to my drunken night of before',\n",
       " 'Dont think so It turns off like randomlly within min of opening',\n",
       " 'You are being contacted by our Dating Service by someone you know To find out who it is call from your mobile or landline PoBoxLDNS ',\n",
       " 'Nothing I meant that once the money enters your account here the bank will remove its flat rate Someone transfered to my account and dollars got removed So the banks differ and charges also differbe sure you trust the ja person you are sending account details to cos',\n",
       " 'Yoyyooo u know how to change permissions for a drive in mac My usb flash drive',\n",
       " 'Come aftr DECIMAL now i m cleaning the house',\n",
       " 'Sorry its a lot of friendofafriend stuff Im just now about to talk to the actual guy who wants to buy',\n",
       " 'You have WON a guaranteed Â cash or a Â prize To claim yr prize call our customer service representative on between ampm',\n",
       " 'I wonder if youll get this text',\n",
       " 'i see When we finish we have loads of loans to pay',\n",
       " 'Sorry pa i dont knw who ru pa',\n",
       " 'Neva mind its ok',\n",
       " 'I hope you know Im still mad at you',\n",
       " 'Sad story of a Man Last week was my bday My Wife didnt wish me My Parents forgot n so did my Kids I went to work Even my Colleagues did not wish As I entered my cabin my PA said Happy Bday Boss I felt special She askd me lunch After lunch she invited me to her apartment We went there She said do u mind if I go into the bedroom for a minute OK I sed in a sexy mood She came out minuts latr wid a caken My Wife My Parents My Kidz My Friends n My Colleagues All screaming SURPRISE and I was waiting on the sofa NAKED',\n",
       " 'Urgent UR awarded a complimentary trip to EuroDisinc Trav AcoEntry Or Â To claim txt DIS to ÂmoreFrmMob ShrAcomOrSglSuplt LS AJ',\n",
       " 'Can u get pic msgs to your phone',\n",
       " 'YOU are guaranteed the latests Nokia Phone a GB iPod MP player or a Â prize Txt wordCOLLECT to No TCLLC NYUSA pMt msgrcvd',\n",
       " 'Maybe westshore or hyde park village the place near my house',\n",
       " 'Remind me how to get there and I shall do so',\n",
       " 'My sister in law hope you are having a great month Just saying hey Abiola',\n",
       " 'Chinatown got porridge claypot rice yam cake fishhead beehoon Either we eat cheap den go cafe n tok or go nydc or somethin',\n",
       " 'SMS SERVICES for your inclusive text credits pls goto wwwcomuknet login unsubscribe with STOP no extra charge help PO BOX IP WE',\n",
       " 'Are you this much buzy',\n",
       " 'Honeybee Said Im d Sweetest in d World God Laughed Said WaitU Havnt Met d Person Reading This Msg MORAL Even GOD Can Crack Jokes GMGNGEGN',\n",
       " 'So that means you still think of teju',\n",
       " 'I take it we didnt have the phone callon Friday Can we assume we wont have it this year now',\n",
       " 'Already am squatting is the new way of walking',\n",
       " ' that call cost Which i guess isnt bad Miss ya need ya want ya love ya',\n",
       " 'I think u have the wrong number',\n",
       " 'Lets use it next week princess ',\n",
       " 'Sorry Ill call later',\n",
       " 'He remains a bro amongst bros',\n",
       " 'Nofew hours beforewent to hair cut ',\n",
       " 'somewhere out there beneath the pale moon light someone think in of u some where out there where dreams come true goodnite sweet dreams',\n",
       " 'I am not having her number sir',\n",
       " 'Yo my trip got postponed you still stocked up',\n",
       " 'For you information IKEA is spelled with all caps That is not yelling when you thought i had left you you were sitting on the bed among the mess when i came in i said we were going after you got home from class please dont try and con me It makes me want to listen to you less',\n",
       " 'I didnt get ur full msgsometext is missing send it again',\n",
       " 'HIYA STU WOT U UP IM IN SO MUCH TRUBLE AT HOME AT MOMENT EVONE HATES ME EVEN U WOT THE HELL AV I DONE NOW Y WONT U JUST TELL ME TEXT BCK PLEASE LUV DAN ',\n",
       " 'Sorry dai was thought of calling you lot of timeslil busyi will call you at noon',\n",
       " 'Hiya do u like the hlday pics looked horrible in them so took mo out Hows the camp Amrca thing Speak soon Serena',\n",
       " 'Id onluy matters when getting on from offcampus',\n",
       " 'I liked your new house',\n",
       " 'ALRITE HUNNYWOT U UP NITE DIDNT END UP GOIN DOWN TOWN JUS DA PUB INSTEAD JUS CHILLIN AT DA MO IN ME BEDROOMLOVE JEN XXX',\n",
       " 'Fair enough anything going on',\n",
       " 'ALSO TELL HIM I SAID HAPPY BIRTHDAY',\n",
       " 'Ill be there on ok',\n",
       " 'How to Make a girl Happy Its not at all difficult to make girls happy U only need to be A friend Companion Lover Chef Good listener Organizer Good boyfriend Very clean Sympathetic Athletic Warm Courageous Determined True Dependable Intelligent Psychologist Pest exterminator Psychiatrist Healer Stylist Driver Aaniye pudunga venaam',\n",
       " 'Still in the area of the restaurant Ill try to come back soon',\n",
       " 'hey looks like I was wrong and one of the kappa guys numbers is still on my phone if you want I can text him and see if hes around',\n",
       " 'GENT We are trying to contact you Last weekends draw shows that you won a Â prize GUARANTEED Call Claim Code K Valid hrs only ppm ',\n",
       " 'Did you hear about the new Divorce Barbie It comes with all of Kens stuff',\n",
       " 'How many times i told in the stage all use to laugh You not listen aha',\n",
       " 'I havent lei Next mon can',\n",
       " 'Dont pick up d call when something important is There to tell Hrishi',\n",
       " 'Lol well dont do it without me We could have a big sale together',\n",
       " 'Am only searching for good dual sim mobile pa',\n",
       " 'Dear Voucher Holder To claim this weeks offer at you PC please go to httpwwwetlpcoukreward TsCs apply',\n",
       " 'Si si I think ill go make those oreo truffles',\n",
       " 'Tiwary to rcbbattle between bang and kochi',\n",
       " 'Just woke up Yeesh its late But I didnt fall asleep til am ',\n",
       " 'Ohi asked for fun Hahatake care u',\n",
       " 'How Izzit still raining',\n",
       " 'Panasonic BluetoothHdset FREE Nokia FREE Motorola FREE DoubleMins DoubleTxt on Orange contract Call MobileUpd on or call optout',\n",
       " 'Customer service annoncement You have a New Years delivery waiting for you Please call now to arrange delivery',\n",
       " 'Pls send me the correct name da',\n",
       " 'Dear got train and seat mine lower seat',\n",
       " 'Why i come in between you people',\n",
       " 'Can Im free',\n",
       " 'Oh ok no prob',\n",
       " 'Ok can',\n",
       " 'Are your freezing Are you home yet Will you remember to kiss your mom in the morning Do you love me Do you think of me Are you missing me yet ',\n",
       " 'U coming pick me',\n",
       " 'Reason is if the team budget is available at last they buy the unsold players for at base rate',\n",
       " 'Oooh bed ridden ey What are YOU thinking of',\n",
       " 'Well done ENGLAND Get the official poly ringtone or colour flag on yer mobile text TONE or FLAG to NOW Optout txt ENG STOP Box WWX Â',\n",
       " 'Mum hope you are having a great day Hoping this text meets you well and full of life Have a great day Abiola',\n",
       " 'And of course you should make a stink',\n",
       " 'A few people are at the game Im at the mall with iouri and kaila',\n",
       " 'Forwarded from Hi this is your Mailbox Messaging SMS alert You have messages You have matches Please call back on to retrieve your messages and matches',\n",
       " 'WINNER As a valued network customer you hvae been selected to receive a Â reward To collect call Valid hours only ACLPM',\n",
       " 'Is xy going e lunch',\n",
       " 'Im in school now n ill be in da lab doing some stuff give me a call when u r done',\n",
       " 'This msg is for your mobile content order It has been resent as previous attempt failed due to network error Queries to customersqueriesnetvisionukcom',\n",
       " 'Fyi Im taking a quick shower be at epsilon in like min',\n",
       " 'Nope im not drivin I neva develop da photos lei',\n",
       " 'Sorry Ill call later',\n",
       " 'Aight Ive been set free think you could text me blakes address It occurs to me Im not quite as sure what Im doing as I thought I was',\n",
       " 'You got job in wiproyou will get every thing in life in or years',\n",
       " 'We know someone who you know that fancies you Call to find out who POBox LSHB p',\n",
       " 'Hi where you You in home or calicut',\n",
       " 'There are some nice pubs near here or there is Frankie n Bennys near the warner cinema',\n",
       " 'No messageno responcewhat happend',\n",
       " 'Great Im in church now will holla when i get out',\n",
       " 'will you like to be spoiled ',\n",
       " 'They dont put that stuff on the roads to keep it from getting slippery over there',\n",
       " 'Pass dis to all ur contacts n see wat u get Redim in luv wid u Blueu put a smile on my face Purpleu r realy hot Pinku r so swt Orangei thnk i lyk u Greeni realy wana go out wid u Yelowi wnt u bck Blackim jealous of u Browni miss you Nw plz giv me one color',\n",
       " 'Lol I was gonna last month I cashed some in but I left just in case I was collecting more during the week cause they announced it on the blog',\n",
       " 'Me too baby I promise to treat you well I bet you will take good care of me',\n",
       " 'Thanx but my birthday is over already',\n",
       " 'About bucks The banks fees are fixed Better to call the bank and find out',\n",
       " 'Thats a bit weird even where is the do supposed to be happening But good idea sure they will be in pub',\n",
       " 'Yeshe have good crickiting mind',\n",
       " 'Are you still playing with gautham',\n",
       " 'URGENT You have won a week FREE membership in our Â Prize Jackpot Txt the word CLAIM to No TC wwwdbuknet LCCLTD POBOX LDNWARW',\n",
       " 'I asked sen to come chennai and search for job',\n",
       " 'Ya had just nowonion roast',\n",
       " 'Yeah Ill try to scrounge something up',\n",
       " 'How i noe Shes in da car now Later then c lar Im wearing shorts',\n",
       " 'Small problem in auctionpunj now asking tiwary',\n",
       " 'Welp apparently he retired',\n",
       " 'Okay same with me Well thanks for the clarification',\n",
       " 'Slept I thinkThis time pm is not dangerous',\n",
       " 'Message from I am at Truro Hospital on ext You can phone me here as I have a phone by my side',\n",
       " 'Jordan got voted out last nite',\n",
       " 'How come it takes so little time for a child who is afraid of the dark to become a teenager who wants to stay out all night',\n",
       " 'How much you got for cleaning',\n",
       " 'I will once i get home',\n",
       " 'Tension ahwhat machiany problem',\n",
       " 'Lol now Im after that hot air balloon',\n",
       " 'Play w computer Aiyah i tok u lor',\n",
       " 'Do you want a New Nokia i colour phone DeliveredTomorrow With free minutes to any mobile free texts Free Camcorder reply or call ',\n",
       " 'Im not coming home dinner',\n",
       " 'Bring it if you got it',\n",
       " 'What pa tell me I went to bath',\n",
       " 'YEH I AM DEF UP SOMETHING SATJUST GOT PAYEDDAY I HAVBEEN GIVEN AÂ PAY RISE MY WORK HAVEBEEN MADE PRESCHOOLCOORDINATOR I AM FEELINGOOD LUV',\n",
       " 'Looks like you found something to do other than smoke great job',\n",
       " 'My darling sister How are you doing Whens school resuming Is there a minimum wait period before you reapply Do take care',\n",
       " 'all the lastest from Stereophonics Marley Dizzee Racal Libertines and The Strokes Win Nookii games with Flirt Click TheMob WAP Bookmark or text WAP to ',\n",
       " 'LIFE has never been this much fun and great until you came in You made it truly special for me I wont forget you enjoy one gbpsms',\n",
       " 'I not free today i haf pick my parents up tonite',\n",
       " 'WHEN THE FIRST STRIKE IS A RED ONE THE BIRD ANTELOPE BEGIN TOPLAY IN THE FIELDOF SELFINDEPENDENCE BELIEVE THIS THE FLOWER OF CONTENTION WILL GROWRANDOM',\n",
       " 'Hello my boytoy Geeee I miss you already and I just woke up I wish you were here in bed with me cuddling me I love you ',\n",
       " 'URGENT Your Mobile No was awarded a Â Bonus Caller Prize on This is our nd attempt to contact YOU Call BOXQU BT National Rate',\n",
       " 'Free video camera phones with Half Price line rental for mths and cross ntwk mins txts Call MobileUpd or CallOptOut',\n",
       " 'Hmmm And imagine after youve come home from that having to rub my feet make me dinner and help me get ready for my date Are you sure your ready for that kind of life ',\n",
       " 'Oh yeah I forgot U can only take out shopping at once',\n",
       " 'We don call like times oh No give us hypertension oh',\n",
       " 'Going to join tomorrow',\n",
       " 'Like same question',\n",
       " 'U calling me right Call my hand phone',\n",
       " 'mths half price Orange line rental latest camera phones FREE Had your phone mths Call MobilesDirect free on to update now orstoptxt',\n",
       " 'Sorry Ill call later',\n",
       " 'You tell what happen dont behave like this to me Ok no need to say',\n",
       " 'I wanna watch that movie',\n",
       " 'Omg you can make a wedding chapel in frontierville Why do they get all the good stuff',\n",
       " 'Gimme a few was minutes ago',\n",
       " 'Pls call me da What happen',\n",
       " 'Ok then u tell me wat time u coming later lor',\n",
       " 'Just now saw your messageit k da',\n",
       " 'U still havent got urself a jacket ah',\n",
       " 'Beerage',\n",
       " 'Are you there in room',\n",
       " 'Thanx the time weve spent geva its bin mint Ur my Baby and all I want is uxxxx',\n",
       " 'Hope you are having a great day',\n",
       " 'URGENT Your Costa Del Sol Holiday or Â await collection Call Now toClaim SAE TC s POBox Stockport SKxh CostÂpm Maxmins',\n",
       " 'Yes i have So thats why u texted Pshewmissing you so much',\n",
       " 'I called but no one pick up e phone I ask both of them already they said ok',\n",
       " 'Shall i start from hear',\n",
       " 'Ok how you dear Did you call chechi',\n",
       " 'I know you are thinkin malaria But relax children cant handle malaria She would have been worse and its gastroenteritis If she takes enough to replace her loss her temp will reduce And if you give her malaria meds now she will just vomit Its a self limiting illness she has which means in a few days it will completely stop',\n",
       " 'That day u say u cut ur hair at paragon is it called hair sense Do u noe how much is a hair cut ',\n",
       " 'I want to be there so i can kiss you and feel you next to me',\n",
       " 'I think if he rule tamilnaduthen its very tough for our people',\n",
       " ' celebrate my bday y else',\n",
       " 'Do you know why god created gap between your fingers So that One who is made for you comes fills those gaps by holding your hand with LOVE',\n",
       " 'Sorry Ill call later ok bye',\n",
       " 'Haha mayb ure rite U know me well Da feeling of being liked by someone is gd lor U faster go find one then all gals in our group attached liao',\n",
       " 'This is the nd time we have tried contact u U have won the Pound prize claim is easy call NOW Only p per min BTnationalrate ',\n",
       " 'Yunny Im goin to be late',\n",
       " 'Adult Content Your video will be with you shortly',\n",
       " 'Im doing da intro covers energy trends n pros n cons Brief description of nuclear fusion n oso brief history of iter n jet got abt n half pages',\n",
       " 'Sorry Ill call later',\n",
       " 'Im sorry Ive joined the league of people that dont keep in touch You mean a great deal to me You have been a friend at all times even at great personal cost Do have a great week',\n",
       " 'Arun can u transfr me d amt',\n",
       " 'UR awarded a City Break and could WIN a Â Summer Shopping spree every WK Txt STORE to SkilGmeTsCsWinawkAgeÂperWKsub',\n",
       " 'Ya toldshe was asking wats matter',\n",
       " 'Tell me something Thats okay',\n",
       " 'You always make things bigger than they are',\n",
       " 'Thinkin about someone is all good No drugs for that',\n",
       " 'Please give it or i will pick it up on Tuesday evening about if that is ok',\n",
       " 'Nobut heard abt tat',\n",
       " 'I wish u were here I feel so alone',\n",
       " 'Cos daddy arranging time c wat time fetch u mah',\n",
       " 'It vl bcum more difficult',\n",
       " 'We will meet soon princess Ttyl',\n",
       " 'Oh A half hour is much longer in Syria than Canada eh Wow you must get SO much more work done in a day than us with all that extra time grins',\n",
       " 'I am in officewhats the mattermsg me nowi will call you at break',\n",
       " 'BABE THASA BIT MESSED UPYEH SHE SHUDVETOLD U DID URGRAN KNOWNEWAY ILLSPEAK UMORO WEN IM NOT ASLEEP',\n",
       " 'HouseMaid is the murderer coz the man was murdered on th January As public holiday all govtinstituitions are closedincluding post officeunderstand',\n",
       " 'what I meant to say is cant wait to see u again getting bored of this bridgwater banter',\n",
       " 'Please CALL immediately as there is an urgent message waiting for you',\n",
       " 'Somewhr someone is surely made u And God has decided a perfect time to make u meet dat person till den Enjoy ur crushes',\n",
       " 'Are you willing to go for apps class',\n",
       " 'Yeah we got one lined up for us',\n",
       " 'Free entry in a weekly comp for a chance to win an ipod Txt POD to to get entry std txt rate TCs apply for details ',\n",
       " 'This pain couldnt have come at a worse time',\n",
       " 'Wat time r u going to xins hostel',\n",
       " 'Not heard from U a while Call me now am here all night with just my knickers on Make me beg for it like U did last time XX Luv Nikiyunet',\n",
       " 'Dunno dats wat he told me Ok lor',\n",
       " 'Huh also cannot Then only how many mistakes',\n",
       " 'Not heard from U a while Call rude chat private line to cum Wan C pics of me gettin shagged then text PIX to End send STOP SAM xxx',\n",
       " 'I wanted to ask u to wait me to finish lect Cos my lect finishes in an hour anyway',\n",
       " 'Total video converter free download type this in google search',\n",
       " 'You are awarded a SiPix Digital Camera call from landline Delivery within days T Cs Box MBP yr warranty ppm p pÂ',\n",
       " 'Height of Oh no situation A guy throws a luv letter on a gal but falls on her brotherD',\n",
       " 'Yup song bro No creative Neva test quality He said check review online',\n",
       " 'WIN a year supply of CDs a store of ur choice worth Â enter our Â Weekly draw txt MUSIC to TsCs wwwLdewcomsubswinppmx',\n",
       " 'Fine am simply sitting',\n",
       " 'GSOH Good with SPAM the ladiesU could b a male gigolo join the uks fastest growing mens club reply ONCALL mjzgroup stop reply STOP msgÂrcvd',\n",
       " 'MAKE SURE ALEX KNOWS HIS BIRTHDAY IS OVER IN FIFTEEN MINUTES AS FAR AS YOURE CONCERNED',\n",
       " 'Company is very goodenvironment is terrific and food is really nice',\n",
       " 'Kkwhere are youhow did you performed',\n",
       " 'Did you say bold then torch later Or one torch and bold',\n",
       " 'You have to pls make a note of all shes exposed to Also find out from her school if anyone else was vomiting Is there a dog or cat in the house Let me know later',\n",
       " 'Bored housewives Chat n date now BTnational rate pmin only from landlines',\n",
       " 'You could have seen mei didt recognise you Face',\n",
       " 'The sign of maturity is not when we start saying big things But actually it is when we start understanding small things HAVE A NICE EVENING BSLVYL',\n",
       " 'India have to take lead',\n",
       " 'Carlosll be here in a minute if you still need to buy',\n",
       " 'Hello As per request from Rs has been transfered to you',\n",
       " 'If you hear a loud scream in about minutes its cause my Gyno will be shoving things up me that dont belong ',\n",
       " 'Ok',\n",
       " 'Sorry Ill call later',\n",
       " 'I dont know u and u dont know me Send CHAT to now and lets find each other Only pMsg rcvd HGSuiteLandsRowWJHL LDN years or over',\n",
       " 'There the size of elephant tablets',\n",
       " 'Yeah I am so Ill leave maybe ish',\n",
       " 'Im used to it I just hope my agents dont drop me since ive only booked a few things this year This whole me in boston them in nyc was an experiment',\n",
       " 'Good Morning my Dear Have a great successful day',\n",
       " 'Congrats mobile G Videophones R yours call now videochat wid your mates play java games Dload polyPH music noline rentl',\n",
       " 'Sunshine Quiz Win a super Sony DVD recorder if you canname the capital of Australia Text MQUIZ to B',\n",
       " 'Ok',\n",
       " 'Just curious because my cuz asked what I was up to',\n",
       " 'Then we gotta do it after that',\n",
       " 'Dont you have message offer',\n",
       " 'Only just got this message not ignoring you Yes i was Shopping that is',\n",
       " 'He needs to stop going to bed and make with the dealing',\n",
       " 'Pls she needs to dat slowly or she will vomit more',\n",
       " 'Meet after lunch la',\n",
       " 'Your account has been refilled successfully by INR DECIMAL Your KeralaCircle prepaid account balance is Rs DECIMAL Your Transaction ID is KR ',\n",
       " 'Nothing splwat abt u and whr ru',\n",
       " 'Hey Dont forget You are MINE For ME My possession MY property MMM childish smile ',\n",
       " 'say thanks ',\n",
       " 'HMV BONUS SPECIAL pounds of genuine HMV vouchers to be won Just answer easy questions Play Now Send HMV to More infowwwpercentrealcom',\n",
       " 'Yup ive finished c u there',\n",
       " 'K come to nordstrom when youre done',\n",
       " 'Dad went out oredi ',\n",
       " 'This is one of the days you have a billion classes right',\n",
       " 'Good Morning plz call me sir',\n",
       " 'Yeah theres barely enough room for the two of us x has too many shoes Sorry man see you later',\n",
       " 'Someone has contacted our dating service and entered your phone because they fancy you To find out who it is call from a landline PoBoxntfp',\n",
       " 'Yo Howz u girls never rang after india L',\n",
       " 'I will cme i want to go to hos morow After that i wil cme This what i got from her dear what to do She didnt say any time',\n",
       " 'Yes They replied my mail Im going to the management office later Plus will in to bank later alsoor on wednesday',\n",
       " 'Waqt se pehle or naseeb se zyada kisi ko kuch nahi miltaZindgi wo nahi he jo hum sochte hai Zindgi wo hai jo ham jeetey hai',\n",
       " 'Good afternoon babe How goes that day Any job prospects yet I miss you my love sighs ',\n",
       " 'Wat time do u wan meet me later',\n",
       " 'I think just yourself Thanks and see you tomo',\n",
       " 'I sent them Do you like',\n",
       " 'Ok Help me ask if shes working tmr a not',\n",
       " 'No problem Talk to you later',\n",
       " 'How dare you change my ring',\n",
       " 'I cant keep talking to people if am not sure i can pay them if they agree to price So pls tell me what you want to really buy and how much you are willing to pay',\n",
       " 'Do you want a New Nokia i Colour Phone Delivered Tomorrow With FREE minutes to any mobile FREE text FREE camcorder Reply or Call ',\n",
       " 'FreeMSG You have been awarded a FREE mini DIGITAL CAMERA just reply SNAP to collect your prize quizclub Opt out Stop pwk SPRWM Ph',\n",
       " 'Jus ans me lar Ull noe later',\n",
       " 'Alright well bring it to you see you in like mins',\n",
       " 'I dont think I can get away for a trek that long with family in town sorry',\n",
       " 'EASTENDERS TV Quiz What FLOWER does DOT compare herself to D VIOLET E TULIP F LILY txt D E or F to NOW chance WIN Â Cash WKENTP',\n",
       " 'Oh then your phone phoned me but it disconnected',\n",
       " 'see you then were all christmassy here',\n",
       " 'Actually just do whatever do find an excuse to be in tampa at some point before january though',\n",
       " 'It is only yesterday true true',\n",
       " 'You have won a guaranteed Â award or even Â cashto claim UR award call free on stop getstop on PHP RG JX',\n",
       " 'Ho ho big belly laugh See ya tomo',\n",
       " 'Youd like that wouldnt you Jerk',\n",
       " 'So many people seems to be special at first sight But only very few will remain special to you till your last sight Maintain them till life ends Shjas',\n",
       " 'Sorry Ill call later in meeting any thing related to trade please call Arul ',\n",
       " 'My planning usually stops at find hella weed smoke hella weed',\n",
       " 'U definitely need a module from e humanities dis sem izzit U wan take other modules st',\n",
       " 'I thk u dun haf hint in e forum already lor Cos i told ron n darren is going tell shuhui',\n",
       " 'Did you stitch his trouser',\n",
       " 'Short But Cute Be a good person but dont try to prove Gud mrng',\n",
       " ' wonders in My WORLD th You th Ur style th Ur smile th Ur Personality rd Ur Nature nd Ur SMS and st Ur Lovely Friendship good morning dear',\n",
       " 'Black shirt n blue jeans I thk i c u',\n",
       " 'Yes Last practice',\n",
       " 'Okay I booked all already Including the one at bugis',\n",
       " 'Hello Hows you and how did saturday go I was just texting to see if youd decided to do anything tomo Not that im trying to invite myself or anything',\n",
       " 'Hey babe sorry i didnt get sooner Gary can come and fix it cause he thinks he knows what it is but he doesnt go as far a Ptbo and he says it will cost bucks I dont know if it might be cheaper to find someone there We dont have any second hand machines at all right now let me know what you want to do babe',\n",
       " 'Didnt try g and I decided not to head out',\n",
       " 'I cant pick the phone right now Pls send a message',\n",
       " 'To the wonderful Okors have a great month We cherish you guys and wish you well each day MojiBiola',\n",
       " 'Much better now thanks lol',\n",
       " 'Im reading the text i just sent you Its meant to be a joke So read it in that light',\n",
       " 'Actually my mobile is full of msg And i m doing a work online where i need to send them sent msg i wil explain u later',\n",
       " 'Do you know why god created gap between your fingers So that One who is made for you comes fills those gaps by holding your hand with LOVE',\n",
       " 'Can not use foreign stamps in this country',\n",
       " 'Erm ill pick you up at about pm Thatll give enough time to get there park and that',\n",
       " 'I got like I can get some more later though Get whatever you feel like',\n",
       " 'Hey mr whats the name of that bill brison book the one about language and words ',\n",
       " 'My sort code is and acc no is The bank is natwest Can you reply to confirm ive sent this to the right person',\n",
       " 'URGENT Your Mobile No was awarded a Â Bonus Caller Prize on This is our nd attempt to contact YOU Call BOXQU',\n",
       " 'Got ur mail Dileepthank you so muchand look forward to lots of supportvery less contacts hereremember one venugopal you mentionedtomorrow if not latei shall try to come up till theregoodnight dear',\n",
       " 'I don wake since I checked that stuff and saw that its true no available spaces Pls call the embassy or send a mail to them',\n",
       " 'Huh y lei',\n",
       " 'PRIVATE Your Account Statement for shows unredeemed Bonus Points To claim call Identifier Code Expires',\n",
       " 'I wait u inside da car park',\n",
       " 'Can i get your opinion on something first',\n",
       " 'Will you come online today night',\n",
       " 'Be sure to check your yahoo email We sent photos yesterday',\n",
       " 'Dear Heroi am leaving to qatar tonite for an apt opportunitypls do keep in touch at EMAIL kerala',\n",
       " 'Missed your call cause I was yelling at scrappy Miss u Cant wait for u to come home Im so lonely today',\n",
       " 'When people see my msgs They think Iam addicted to msging They are wrong Bcoz They dont know that Iam addicted to my sweet Friends BSLVYL',\n",
       " 'Ahhh Work I vaguely remember that What does it feel like Lol',\n",
       " 'Ok',\n",
       " 'The guy at the car shop who was flirting with me got my phone number from the paperwork and called and texted me Im nervous because of course now he may have my address Should i call his boss and tell him knowing this may get him fired',\n",
       " 'Oops I was in the shower when u called Hey a parking garage collapsed at university hospital See Im not crazy Stuff like that DOES happen',\n",
       " 'He is impossible to argue with and he always treats me like his sub like he never released me Which he did and I will remind him of that if necessary',\n",
       " 'get ready to moan and scream ',\n",
       " 'Yetunde im in class can you not run water on it to make it ok Pls now',\n",
       " 'Lol U drunkard Just doing my hair at d moment Yeah still up tonight Wats the plan ',\n",
       " 'Call FREEPHONE now',\n",
       " 'Only once then after ill obey all yours',\n",
       " 'Thats good Lets thank God Please complete the drug Have lots of water And have a beautiful day',\n",
       " 'CHEERS LOU YEAH WAS A GOODNITE SHAME U NEVA CAME C YA GAILxx',\n",
       " 'Free video camera phones with Half Price line rental for mths and cross ntwk mins txts Call MobileUpd or CallOptOut',\n",
       " 'But i dint slept in afternoon',\n",
       " 'Yup',\n",
       " 'Cbe is really good nowadayslot of shop and showroomscity is shaping good',\n",
       " 'Hi happy birthday Hi hi hi hi hi hi hi',\n",
       " 'Hi im having the most relaxing time ever we have to get up at am every day was the party good the other night I get home tomorrow at ish',\n",
       " 'I am on the way to ur home',\n",
       " 'Convey my regards to him',\n",
       " 'U free on sat rite U wan watch infernal affairs wif me n darren n mayb xy',\n",
       " 'K jason says hes gonna be around so Ill be up there around ',\n",
       " 'First answer my question',\n",
       " 'Sorry Ill call later',\n",
       " 'I absolutely LOVE South Park I only recently started watching the office',\n",
       " 'Its cool let me know before it kicks off around Ill be out and about all day',\n",
       " 'hows my favourite person today r u workin hard couldnt sleep again last nite nearly rang u at ',\n",
       " 'Mila age blonde new in UK I look sex with UK guys if u like fun with me Text MTALK to pptxt st free Â increments Help',\n",
       " 'Oh sorry please its over',\n",
       " 'Vikky come around TIME ',\n",
       " 'HMV BONUS SPECIAL pounds of genuine HMV vouchers to be won Just answer easy questions Play Now Send HMV to More infowwwpercentrealcom',\n",
       " 'Poor girl cant go one day lmao',\n",
       " 'Yeah probably but not sure Ilol let u know but personally I wuldnt bother then again if ur goin to then I mite as well',\n",
       " 'No But well do medical missions to nigeria',\n",
       " 'Ive reached home n i bathe liao U can call me now',\n",
       " 'Nothing will ever be easy But dont be looking for a reason not to take a risk on life and love',\n",
       " 'Speak only when you feel your words are better than the silence Gud mrng',\n",
       " 'Hmm ok ill stay for like an hour cos my eye is really sore',\n",
       " 'Also track down any lighters you can find',\n",
       " 'I think you should go the honesty road Call the bank tomorrow Its the tough decisions that make us great people',\n",
       " 'Just glad to be talking to you',\n",
       " 'on hen night Going with a swing',\n",
       " 'chile please Its only a DECIMAL hour drive for me I come down all the time and will be subletting febapril for audition season',\n",
       " 'I have to take exam with in march ',\n",
       " 'MAYBE IF YOU WOKE UP BEFORE THIS WOULDNT BE A PROBLEM',\n",
       " 'Itll be tough but Ill do what I have to',\n",
       " ' URGENT Your mobile No xxxxxxxxx won a Â bonus caller prize on this is the nd attempt to reach YOU call ASAP',\n",
       " 'I send the print outs da',\n",
       " 'Will do Have a good day',\n",
       " 'FreeMsg Claim ur SMS messagesText OK to nowUse webmobile ur mates etc Join Txtcom for pwk TC BOX LAWU Remove txtX or stop',\n",
       " 'If we win its really no side for long time',\n",
       " 'I am in escape theatre now Going to watch KAVALAN in a few minutes',\n",
       " 'The gas station is like a block away from my house youll drive right by it since armenia ends at swann and you have to take howard',\n",
       " 'WINNER As a valued network customer you have been selected to receivea Â prize reward To claim call Claim code KL Valid hours only',\n",
       " 'NEFT Transaction with reference number for Rs DECIMAL has been credited to the beneficiary account on at TIME ',\n",
       " 'I am waiting for your call sir',\n",
       " 'Am i that much bad to avoid like this',\n",
       " 'We currently have a message awaiting your collection To collect your message just call ',\n",
       " 'Good morning princess Happy New Year',\n",
       " 'U say leh Of course nothing happen lar Not say v romantic jus a bit only lor I thk e nite scenery not so nice leh',\n",
       " 'Best msg Its hard to be with a person when u know that one more step foward will make u fall in love One step back can ruin ur friendship good night ',\n",
       " 'I got it before the new year cos yetunde said she wanted to surprise you with it but when i didnt see money i returned it mid january before the day return period ended',\n",
       " 'Yup its at paragon I havent decided whether cut yet Hee',\n",
       " 'Good afternoon my boytoy How are you feeling today Better I hope Are you being my good boy Are you my obedient slave Do you please your Queen',\n",
       " 'Sry dajst nw only i came to home',\n",
       " 'If we hit it off you can move in with me ',\n",
       " 'Reply to win Â weekly Where will the FIFA World Cup be held Send STOP to to end service',\n",
       " 'He didnt see his shadow We get an early spring yay',\n",
       " 'No idea I guess well work that out an hour after were supposed to leave since as usual nobody has any interest in figuring stuff out before the last second',\n",
       " 'Sitting in mu waiting for everyone to get out of my suite so I can take a shower',\n",
       " 'money you r a lucky winner claim your prize text money over Âmillion to give away pptxnormal text rate box wtjy',\n",
       " 'Call me da i am waiting for your call',\n",
       " 'URGENT Your Mobile number has been awarded with a Â Bonus Caller Prize Call from land line Valid hrs only',\n",
       " 'Usually the body takes care of it buy making sure it doesnt progress Can we pls continue this talk on saturday',\n",
       " 'Tomorrow i am not going to theatre So i can come wherever u call me Tell me where and when to come tomorrow',\n",
       " 'Double your mins txts on Orange or price linerental Motorola and SonyEricsson with BTooth FREENokia FREE Call MobileUpd on oroptoutHVD',\n",
       " 'There are many company Tell me the language',\n",
       " 'Am slow in using biolas fne',\n",
       " 'Thats cool Ill come by like ish',\n",
       " 'Nutter Cutter Ctter Cttergg Cttargg Ctargg Ctagg ie you',\n",
       " 'Wow I never realized that you were so embarassed by your accomodations I thought you liked it since i was doing the best i could and you always seemed so happy about the cave Im sorry I didnt and dont have more to give Im sorry i offered Im sorry your room was so embarassing',\n",
       " 'I thk shd be ok he said plus minus Did u leave a line in between paragraphs',\n",
       " 'Im still pretty weak today Bad day ',\n",
       " 'Its a part of checking IQ',\n",
       " 'Under the sea there lays a rock In the rock there is an envelope In the envelope there is a paper On the paper there are words ',\n",
       " 'Hows the street where the end of library walk is',\n",
       " 'Surly ill give it to you while coming to review',\n",
       " 'Science tells that chocolate will melt under the sunlight Please dont walk under the sunlight BCozI dont want to loss a sweet friend',\n",
       " 'Wanna have a laugh Try CHITCHAT on your mobile now Logon by txting the word CHAT and send it to No CM PO Box London WA ZF pmsg rcvd',\n",
       " 'Aight lemme know whats up',\n",
       " 'Then mums repent how',\n",
       " 'Dear Voucher Holder claim this weeks offer at your PC go to httpwwwetlpcoukexpressoffer TsCs apply stop texts txt STOP to ',\n",
       " 'Dont necessarily expect it to be done before you get back though because Im just now headin out',\n",
       " 'HI DARLIN HOW WAS WORK DID U GET INTO TROUBLE IJUST TALKED TO YOUR MUM ALL MORNING I HAD A REALLY GOOD TIME LAST NIGHT IM GOIN OUT SOON BUT CALL ME IF U CAN',\n",
       " 'FreeMsg Todays the day if you are ready Im horny live in your town I love sex fun games Netcollex Ltd p per msg reply Stop to end',\n",
       " 'FREE for st week No Nokia tone ur mobile every week just txt NOKIA to Get txting and tell ur mates wwwgetzedcouk POBox WWQ normptone',\n",
       " 'Hi frnd which is best way to avoid missunderstding wit our beloved ones',\n",
       " 'I am joining today formallyPls keep prayingwill talk later',\n",
       " 'Hey company elama po mudyadhu',\n",
       " 'th OF JULY',\n",
       " 'By the way make sure u get train to worc foregate street not shrub hill Have fun night x',\n",
       " 'I know she called me',\n",
       " 'Keep yourself safe for me because I need you and I miss you already and I envy everyone that sees you in real life',\n",
       " 'Sorry mail ',\n",
       " 'This is ur face test select any number i will tell ur face astrology am waiting quick reply',\n",
       " 'Bognor it is Should be splendid at this time of year',\n",
       " 'Wan win a MeetGreet with Westlife U or a m They are currently on what tour Unbreakable Untamed Unkempt Text or to Cost p std text',\n",
       " 'Remember on that day',\n",
       " 'hanks lotsly',\n",
       " 'I cant keep going through this It was never my intention to run you out but if you choose to do that rather than keep the room clean so I dont have to say no to visitors then maybe thats the best choice Yes I wanted you to be embarassed so maybe youd feel for once how I feel when i have a friend who wants to drop buy and i have to say no as happened this morning Ive tried everything I dont know what else to do',\n",
       " 'Waiting for your call',\n",
       " 'Tomarrow final hearing on my laptop case so i cant',\n",
       " 'Just wanted to say you guys werent kidding about this bud',\n",
       " 'It just seems like weird timing that the night that all you and g want is for me to come smoke is the same day as when a storm is attributed to me always coming over and making everyone smoke',\n",
       " 'Dude we should go sup again',\n",
       " 'Wait thats still not all that clear were you not sure about me being sarcastic or that thats why x doesnt want to live with us',\n",
       " 'R U SAM P IN EACHOTHER IF WE MEET WE CAN GO MY HOUSE',\n",
       " 'Im meeting Darren',\n",
       " 'u all write or wat',\n",
       " 'Perhaps is much easy give your account identification so i will tomorrow at UNI',\n",
       " 'OK im waliking ard now Do u wan me buy anything go ur house',\n",
       " 'Your dad is back in ph',\n",
       " 'We have to pick rayan macleran there',\n",
       " 'LOOK AT THE TIME WHAT DO YOU THINK IS UP',\n",
       " 'Good afternoon my love How goes your day How did you sleep I hope your well my boytoy I think of you ',\n",
       " ' days to Euro kickoff U will be kept informed of all the latest news and results daily Unsubscribe send GET EURO STOP to ',\n",
       " 'Alright i have a new goal now',\n",
       " 'Just got up have to be out of the room very soon i hadnt put the clocks back til at i shouted at everyone to get up and then realised it was wahay another hour in bed',\n",
       " 'Senthil group company Apnt pm',\n",
       " 'Sorry Ill call later in meeting',\n",
       " 'Good No swimsuit allowed ',\n",
       " 'I think that tantrums finished so yeah Ill be by at some point',\n",
       " 'Wif my family booking tour package',\n",
       " 'GRAN ONLYFOUND OUT AFEW DAYS AGOCUSOON HONI',\n",
       " ' wonders in My WORLD th You th Ur style th Ur smile th Ur Personality rd Ur Nature nd Ur SMS and st Ur Lovely Friendship good morning dear',\n",
       " 'FREE for st week No Nokia tone ur mobile every week just txt NOKIA to Get txting and tell ur mates wwwgetzedcouk POBox WWQ normptone',\n",
       " 'Let me know how it changes in the next hrs It can even be appendix but you are out of that age range However its not impossible So just chill and let me know in hrs',\n",
       " 'Sorry Ill call you later I am in meeting sir',\n",
       " 'Im in inperialmusic listeningthe weirdest track ever byleafcutter johnsounds like insects being molestedsomeone plumbingremixed by evil men on acid',\n",
       " 'Dare i ask Any luck with sorting out the car',\n",
       " 'My birthday is on feb da ',\n",
       " 'Thk shld b can Ya i wana go lessons Haha can go for one whole stretch',\n",
       " 'Aight sounds good When do you want me to come down',\n",
       " 'Nope I just forgot Will show next week',\n",
       " 'Detroit The home of snow Enjoy it',\n",
       " 'Ok',\n",
       " 'Yesgauti and sehwag out of odi series',\n",
       " 'Yes it completely in out of formclark also utter waste',\n",
       " 'Youre not sure that Im not trying to make xavier smoke because I dont want to smoke after being told I smoke too much',\n",
       " 'Hey cutie How goes it Here in WALES its kinda ok There is like hills but i still avent killed myself ',\n",
       " 'Hey gals Anyone of u going down to e driving centre tmr',\n",
       " 'Or remind me in a few hrs',\n",
       " 'I know you are Can you pls open the back',\n",
       " 'He will you guys close',\n",
       " 'Cool breeze Bright sun Fresh flower Twittering birds All these waiting to wish u GOODMORNING HAVE A NICE DAY ',\n",
       " 'Thanks for your ringtone order ref number K Your mobile will be charged Â Should your tone not arrive please call customer services on ',\n",
       " 'Uncle Abbey Happy New Year Abiola',\n",
       " 'Ok i wont call or disturb any one I know all are avoiding me I am a burden for all',\n",
       " 'Customer place i will call you',\n",
       " 'A boy was late home His father POWER OF FRNDSHIP',\n",
       " 'Good Morning my Dear Shijutta Have a great successful day',\n",
       " 'Im okay Chasing the dream Whats good What are you doing next',\n",
       " 'En chikku nange bakra msg kalstiyathen had teacoffee',\n",
       " 'Whats ur pin',\n",
       " 'Hi if ur lookin saucy daytime fun wiv busty married woman Am free all next week Chat now sort time JANINExx CallsÂminMobsmoreLKPOBOXHPFL',\n",
       " 'K Ill call you when Im close',\n",
       " 'Good morning princess Have a great day',\n",
       " 'Dude how do you like the buff wind',\n",
       " 'What Todaysundaysunday is holidayso no work',\n",
       " 'So u gonna get deus ex',\n",
       " 'CHA QUITEAMUZING THATSCOOL BABEPROBPOP IN CU SATTHEN HUNNY BREKKIE LOVE JEN XXX PSXTRA LRG PORTIONS ME PLEASE ',\n",
       " 'My Parents My Kidz My Friends n My Colleagues All screaming SURPRISE and I was waiting on the sofa NAKED',\n",
       " 'You are now unsubscribed all services Get tons of sexy babes or hunks straight to your phone go to httpgotbabescouk No subscriptions',\n",
       " 'Miserable They dont tell u that the side effects of birth control are massive gut wrenching cramps for the first months I didnt sleep at all last night',\n",
       " 'Jane babes not goin wrk feel ill after lst nite Foned in already cover me chuck',\n",
       " 'Oh ok wait me there My lect havent finish',\n",
       " 'Or maybe my fat fingers just press all these buttons and it doesnt know what to do',\n",
       " ' ok I feel like john lennon',\n",
       " 'Ranjith cal drpd Deeraj and deepak min hold',\n",
       " 'Hi Mobile no has added you in their contact list on wwwfullonsmscom It s a great place to send free sms to people For more visit fullonsmscom',\n",
       " 'Loan for any purpose Â Â Homeowners Tenants welcome Have you been previously refused We can still help Call Free or text back help',\n",
       " 'Me im not workin Once i get job',\n",
       " 'Well keep in mind Ive only got enough gas for one more round trip barring a sudden influx of cash',\n",
       " 'Sorry about earlier Putting out firesAre you around to talk after Or do you actually have a life lol',\n",
       " 'p per min to call Germany from your BT line Just p per min Check PlanetTalkInstantcom for info Ts Cs Text stop to opt out',\n",
       " 'Customer service announcement We recently tried to make a delivery to you but were unable to do so please call to reschedule Ref',\n",
       " 'Can you talk with me',\n",
       " 'I guess you could be as good an excuse as any lol',\n",
       " 'Alright if youre sure let me know when youre leaving',\n",
       " 'Ard like dat Y',\n",
       " 'Carlos is taking his sweet time as usual so let me know when you and patty are donewant to smoke and Ill tell him to haul ass',\n",
       " 'U can WIN Â of Music Gift Vouchers every week starting NOW Txt the word DRAW to TsCs wwwIdewcom SkillGame Winaweek age ppermessSubscription',\n",
       " 'Height of recycling Read twice People spend time for earning money and the same money is spent for spending time Good morning keep smiling',\n",
       " 'Great NEW Offer DOUBLE Mins DOUBLE Txt on best Orange tariffs AND get latest camera phones FREE Call MobileUpd free on NOW or stoptxt TCs',\n",
       " 'Shant disturb u anymore Jia you',\n",
       " 'Alex says hes not ok with you not being ok with it',\n",
       " 'Dont hesitate You know this is the second time she has had weakness like that So keep i notebook of what she eat and did the day before or if anything changed the day before so that we can be sure its nothing',\n",
       " 'Im already back home so no probably not',\n",
       " 'Nothin comes to my mind u help me buy hanger lor Ur laptop not heavy',\n",
       " 'WIN We have a winner Mr T Foley won an iPod More exciting prizes soon so keep an eye on ur mobile or visit wwwwincouk',\n",
       " 'Same Wana plan a trip sometme then',\n",
       " 'Rightio it is then Well arent we all up bright and early this morning',\n",
       " 'Free Top ringtone sub to weekly ringtoneget st week freesend SUBPOLY to per weekstop sms',\n",
       " 'K Ill work something out',\n",
       " 'Youre gonna have to be way more specific than that',\n",
       " 'Can you please send me my auntys number',\n",
       " 'From to only my work timing',\n",
       " 'What year And how many miles',\n",
       " 'Do you know what Mallika Sherawat did yesterday Find out now URL',\n",
       " 'Tired I havent slept well the past few nights',\n",
       " 'Yeah probably here for a while',\n",
       " 'Hey pple or for nightsExcellent location wif breakfast hamper',\n",
       " 'Ill post her out lr In class',\n",
       " 'Nooooooo Im gonna be bored to death all day Cable and internet outage',\n",
       " 'Wat u doing there',\n",
       " 'This pen thing is beyond a joke Wont a Biro do Dont do a masters as cant do this ever again ',\n",
       " 'Are u awake Is there snow there',\n",
       " 'Thats the way you should stay oh',\n",
       " 'Still chance there If you search hard you will get itlet have a try ',\n",
       " 'Why you keeping me away like this',\n",
       " 'PRIVATE Your Account Statement for shows unredeemed S I M points Call Identifier Code Expires ',\n",
       " 'Yup Ok i go home look at the timings then i msg u again Xuhui going to learn on nd may too but her lesson is at am',\n",
       " 'Want to send me a virtual hug I need one',\n",
       " 'For taking part in our mobile survey yesterday You can now have texts use however you wish get txts just send TXT to TC wwwtxtcom p',\n",
       " 'Sunshine Hols To claim ur med holiday send a stamped self address envelope to Drinks on Us UK PO Box Bray Wicklow Eire Quiz Starts Saturday Unsub Stop',\n",
       " 'Wanna do some art D',\n",
       " 'Goodnight da thangam I really miss u dear',\n",
       " 'Thanks honey Have a great day',\n",
       " 'Dude avatar d was imp At one point i thought there were actually flies in the room and almost tried hittng one as a reflex',\n",
       " 'Carlos is down but I have to pick it up from him so Ill swing by usf in a little bit',\n",
       " 'Free msg Single Find a partner in your area s of real people are waiting to chat nowSend CHAT to Cncl send STOPCS Â per msg',\n",
       " 'Aight can you text me the address',\n",
       " 'Ok lor then we go tog lor',\n",
       " 'Sorry went to bed early nightnight',\n",
       " 'Ur cashbalance is currently pounds to maximize ur cashin now send GO to only pmeg CC HGSuitelands RowWjHL',\n",
       " 'There bold Is that yours',\n",
       " 'YOU VE WON Your Costa Del Sol Holiday or Â await collection Call Now toClaim SAE TC s POBox Stockport SKxh CostÂpm Maxmins',\n",
       " 'I AM AT THE GAS STATION GO THERE',\n",
       " 'Ok Not sure what time tho as not sure if can get to library before class Will try See you at some point Have good eve',\n",
       " 'PLS STOP bootydelious F is inviting you to be her friend Reply YES or NO See her wwwSMSacubootydelious STOP Send STOP FRND to ',\n",
       " 'If i start sending blackberry torch to nigeria will you find buyer for melike a month And tell dad not to buy bb from anyone oh',\n",
       " 'Got itmail panren paru',\n",
       " 'Then dun wear jeans lor',\n",
       " 'Haha I heard that text me when youre around',\n",
       " 'Sorry me going home first Daddy come fetch u later',\n",
       " 'Mmmmmm I love youso much Ahmad I cant wait for this year to begin as every second takes me closer to being at your side Happy New Year my love',\n",
       " 'That way transport is less problematic than on sat night By the way if u want to ask n to join my bday feel free But need to know definite nos as booking on fri ',\n",
       " 'Lol enjoy role playing much',\n",
       " 'Blank is Blank But wat is blank Lol',\n",
       " 'Summers finally here Fancy a chat or flirt with sexy singles in yr area To get MATCHED up just reply SUMMER now Free Join OptOut txt STOP Help',\n",
       " 'Finish liao U',\n",
       " 'Great I hope you like your man well endowed I am inches',\n",
       " 'Edison has rightly said A fool can ask more questions than a wise man can answer Now you know why all of us are speechless during ViVa GMGNGEGNT',\n",
       " 'Hui xin is in da lib',\n",
       " 'New TEXTBUDDY Chat horny guys in ur area just p Free receive Search postcode or at gaytextbuddycom TXT ONE name to ',\n",
       " 'Yes princess Are you going to make me moan',\n",
       " 'Try to do something dear You read something for exams',\n",
       " 'Ive got ten bucks jay is being noncomittal',\n",
       " 'Ok ill send you with in DECIMAL ok',\n",
       " 'Hi wlcome back did wonder if you got eaten by a lion or something nothing much',\n",
       " 'Living is very simple Loving is also simple Laughing is too simple Winning is tooo simple But being SIMPLE is very difficult Gud nte',\n",
       " 'Yes Nigh you cant aha',\n",
       " 'You are a winner U have been specially selected receive Â cash or a holiday flights inc speak to a live operator claim ',\n",
       " 'Happy or sad one thing about past is Its no more GOOD MORNING ',\n",
       " 'Thanks for your subscription to Ringtone UK your mobile will be charged Âmonth Please confirm by replying YES or NO If you reply NO you will not be charged',\n",
       " 'Hey mate Spoke to the mag people Were on the is deliver by the end of the month Deliver on the th sept Talk later ',\n",
       " 'HI DARLIN ITS KATE ARE U UP FOR DOIN SOMETHIN TONIGHT IM GOING TO A PUB CALLED THE SWAN OR SOMETHING WITH MY PARENTS FOR ONE DRINK SO PHONE ME IF U CAN',\n",
       " 'I will see in half an hour',\n",
       " 'We tried to call you re your reply to our sms for a video mobile mins UNLIMITED TEXT free camcorder Reply or call now Del Thurs',\n",
       " 'Ok i found dis pierre cardin one which looks normal costs its on sale',\n",
       " 'Shes fine I have had difficulties with her phone It works with mine Can you pls send her another friend request',\n",
       " 'Babe I LOVE YOU covers your face in kisses',\n",
       " 'Then ur sis how',\n",
       " 'Sitting ard nothing to do lor U leh busy w work',\n",
       " 'When you get free call me',\n",
       " 'I wont So wats wit the guys',\n",
       " 'Nothing Can',\n",
       " 'u got wat to buy tell us then u no need to come in again',\n",
       " 'Or ill be a little closer like at the bus stop on the same street',\n",
       " 'u takin linear algebra today',\n",
       " 'Ya when are u taking ure practical lessons I start in june ',\n",
       " 'Getting tickets walsall tue th march My mate is getting me them on sat ill pay my treat Want go Txt bak Terry',\n",
       " 'Is that what time you want me to come',\n",
       " 'SMS ac sun posts HELLOYou seem cool wanted to say hi HI Stop Send STOP to ',\n",
       " 'Urgent Please call from your landline your complimentary Lux Costa Del Sol holiday or Â CASH await collection ppm SAE TCs James EHRR',\n",
       " 'Just wait till end of march when el nino gets himself Oh',\n",
       " 'Aslamalaikkuminsha allah tohar beeen muht albi mufti mahfuuzmeaning same here',\n",
       " 'How r u going to send it to me',\n",
       " 'Apart from the one i told you about yesterday',\n",
       " 'Awesome think we can get an th at usf some time tonight',\n",
       " 'No its truekDo u knw dis no ',\n",
       " 'Sorry battery died yeah Im here',\n",
       " 'I cant pick the phone right now Pls send a message',\n",
       " 'Sorry You never hear unless you book it One was kinda a jokethet were really looking for skinny white girls The other was one lineyou can only do so much on camera with that Something like that theyre casting on the look',\n",
       " 'Yes i think so I am in office but my lap is in room i think thats on for the last few days I didnt shut that down',\n",
       " 'Armand says get your butt over to epsilon',\n",
       " 'That depends How would you like to be treated ',\n",
       " 'Also you and your family for going to rhode island or wherever and leaving me all alone the week I have a new bong ',\n",
       " 'Sfine Anytime All the best with it',\n",
       " 'My sister got placed in birla soft da',\n",
       " 'Yeah in fact he just asked if we needed anything like an hour ago When and how much',\n",
       " 'Kkfrom tomorrow onwards started ah',\n",
       " ...]"
      ]
     },
     "execution_count": 14,
     "metadata": {},
     "output_type": "execute_result"
    }
   ],
   "source": [
    "text_list"
   ]
  },
  {
   "cell_type": "code",
   "execution_count": 15,
   "metadata": {},
   "outputs": [],
   "source": [
    "from sklearn.feature_extraction.text import CountVectorizer\n",
    "# scikit-learn 문서 전처리 기능\n",
    "# CounterVectorizer : 문서 집합에서 단어 토큰을 생성하고 각 단어의 수를 세어 BOW(Bag of words) 인코딩한 벡터를 만든다."
   ]
  },
  {
   "cell_type": "code",
   "execution_count": 16,
   "metadata": {},
   "outputs": [
    {
     "data": {
      "text/plain": [
       "CountVectorizer(analyzer='word', binary=False, decode_error='strict',\n",
       "        dtype=<class 'numpy.int64'>, encoding='utf-8', input='content',\n",
       "        lowercase=True, max_df=1.0, max_features=None, min_df=0.0,\n",
       "        ngram_range=(1, 1), preprocessor=None, stop_words=None,\n",
       "        strip_accents=None, token_pattern='(?u)\\\\b\\\\w\\\\w+\\\\b',\n",
       "        tokenizer=None, vocabulary=None)"
      ]
     },
     "execution_count": 16,
     "metadata": {},
     "output_type": "execute_result"
    }
   ],
   "source": [
    "vect = CountVectorizer(min_df=0., max_df=1.0)\n",
    "vect"
   ]
  },
  {
   "cell_type": "code",
   "execution_count": 17,
   "metadata": {},
   "outputs": [],
   "source": [
    "X = vect.fit_transform(text_list) \n",
    "#Learn the vocabulary dictionary and return term-document matrix."
   ]
  },
  {
   "cell_type": "code",
   "execution_count": 18,
   "metadata": {
    "scrolled": true
   },
   "outputs": [
    {
     "data": {
      "text/plain": [
       "scipy.sparse.csr.csr_matrix"
      ]
     },
     "execution_count": 18,
     "metadata": {},
     "output_type": "execute_result"
    }
   ],
   "source": [
    "type(X) # sparse matrix"
   ]
  },
  {
   "cell_type": "code",
   "execution_count": 19,
   "metadata": {},
   "outputs": [
    {
     "name": "stdout",
     "output_type": "stream",
     "text": [
      "  (0, 3471)\t1\n",
      "  (0, 1198)\t1\n",
      "  (0, 3762)\t1\n",
      "  (0, 8103)\t1\n",
      "  (0, 2885)\t1\n",
      "  (0, 3106)\t1\n",
      "  (0, 367)\t1\n",
      "  (0, 8500)\t1\n",
      "  (0, 3281)\t1\n",
      "  (1, 7326)\t1\n",
      "  (1, 4743)\t1\n",
      "  (1, 534)\t1\n",
      "  (1, 3825)\t1\n",
      "  (2, 5319)\t1\n",
      "  (2, 7493)\t1\n",
      "  (2, 3099)\t1\n",
      "  (2, 975)\t1\n",
      "  (2, 5105)\t1\n",
      "  (2, 1126)\t1\n",
      "  (2, 1964)\t1\n",
      "  (2, 227)\t1\n",
      "  (2, 235)\t1\n",
      "  (2, 3471)\t1\n",
      "  (3, 848)\t1\n",
      "  (3, 5181)\t1\n",
      "  :\t:\n",
      "  (5557, 3744)\t2\n",
      "  (5557, 1165)\t1\n",
      "  (5557, 7000)\t1\n",
      "  (5557, 31)\t1\n",
      "  (5557, 289)\t1\n",
      "  (5557, 3197)\t1\n",
      "  (5557, 2189)\t2\n",
      "  (5557, 2198)\t1\n",
      "  (5557, 6029)\t2\n",
      "  (5557, 4395)\t1\n",
      "  (5557, 6670)\t1\n",
      "  (5557, 1701)\t1\n",
      "  (5557, 8164)\t1\n",
      "  (5557, 3883)\t1\n",
      "  (5557, 7825)\t1\n",
      "  (5557, 3610)\t1\n",
      "  (5557, 3596)\t1\n",
      "  (5557, 4939)\t1\n",
      "  (5557, 975)\t1\n",
      "  (5558, 6439)\t1\n",
      "  (5558, 2581)\t1\n",
      "  (5558, 1008)\t1\n",
      "  (5558, 1726)\t1\n",
      "  (5558, 4956)\t1\n",
      "  (5558, 3106)\t1\n"
     ]
    }
   ],
   "source": [
    "print(X)"
   ]
  },
  {
   "cell_type": "code",
   "execution_count": 20,
   "metadata": {},
   "outputs": [
    {
     "data": {
      "text/plain": [
       "matrix([[0, 0, 0, ..., 0, 0, 0],\n",
       "        [0, 0, 0, ..., 0, 0, 0],\n",
       "        [0, 0, 0, ..., 0, 0, 0],\n",
       "        ...,\n",
       "        [0, 0, 0, ..., 0, 0, 0],\n",
       "        [0, 0, 0, ..., 0, 0, 0],\n",
       "        [0, 0, 0, ..., 0, 0, 0]], dtype=int64)"
      ]
     },
     "execution_count": 20,
     "metadata": {},
     "output_type": "execute_result"
    }
   ],
   "source": [
    "X.todense()\n",
    "#Return a dense matrix representation of this matrix."
   ]
  },
  {
   "cell_type": "code",
   "execution_count": 21,
   "metadata": {},
   "outputs": [],
   "source": [
    "#매트릭스의 종류는 2가지\n",
    "# 1. dens matrix : 모든 정보를 다 가지고 있음\n",
    "# 2. sparse matrix : 예를 들어, 'Kgive back my thanks' kigve/ back/ my / thanks \n",
    "# 2. (0, 3471) 1 : 0번째 로우('Kgive back my thanks' ), 3471(kgive 컬럼이 3471번째에 있다. 순서대로 컬럼이 지정되지 않는군!)\n",
    "# 2. 1의 의미 : 0번째 로우에 3471 컬럼에 해당하는 kgive 단어가 1개 있다!  // 2는 단어가 2개 있다는 뜻\n",
    "# 2. 0은 없는 이유 : 있는 단어만 좌표를 찍어 나타내줌. c.f) dense는 모든 정보를 표현함(비경제적)"
   ]
  },
  {
   "cell_type": "code",
   "execution_count": 22,
   "metadata": {},
   "outputs": [],
   "source": [
    "#로우는 문장갯수, 컬럼은 단어단위로 분할"
   ]
  },
  {
   "cell_type": "code",
   "execution_count": 23,
   "metadata": {},
   "outputs": [
    {
     "data": {
      "text/plain": [
       "matrix([[0, 0, 0, ..., 0, 0, 0],\n",
       "        [0, 0, 0, ..., 0, 0, 0],\n",
       "        [0, 0, 0, ..., 0, 0, 0],\n",
       "        ...,\n",
       "        [0, 0, 0, ..., 0, 0, 0],\n",
       "        [0, 0, 0, ..., 0, 0, 0],\n",
       "        [0, 0, 0, ..., 0, 0, 0]], dtype=int64)"
      ]
     },
     "execution_count": 23,
     "metadata": {},
     "output_type": "execute_result"
    }
   ],
   "source": [
    "X.todense()\n",
    "#Return a dense matrix representation of this matrix."
   ]
  },
  {
   "cell_type": "code",
   "execution_count": 24,
   "metadata": {},
   "outputs": [
    {
     "data": {
      "text/plain": [
       "(5559, 8589)"
      ]
     },
     "execution_count": 24,
     "metadata": {},
     "output_type": "execute_result"
    }
   ],
   "source": [
    "X.shape"
   ]
  },
  {
   "cell_type": "code",
   "execution_count": 25,
   "metadata": {
    "scrolled": true
   },
   "outputs": [
    {
     "data": {
      "text/plain": [
       "(5559, 2)"
      ]
     },
     "execution_count": 25,
     "metadata": {},
     "output_type": "execute_result"
    }
   ],
   "source": [
    "df.shape"
   ]
  },
  {
   "cell_type": "code",
   "execution_count": 26,
   "metadata": {},
   "outputs": [
    {
     "data": {
      "text/plain": [
       "0     ham\n",
       "1     ham\n",
       "2     ham\n",
       "3    spam\n",
       "4    spam\n",
       "Name: type, dtype: object"
      ]
     },
     "execution_count": 26,
     "metadata": {},
     "output_type": "execute_result"
    }
   ],
   "source": [
    "df.type.head()\n",
    "# 데이터프레임의 컬럼을 지정\n",
    "# df['type'] == df.type"
   ]
  },
  {
   "cell_type": "code",
   "execution_count": 27,
   "metadata": {},
   "outputs": [
    {
     "data": {
      "text/plain": [
       "0     ham\n",
       "1     ham\n",
       "2     ham\n",
       "3    spam\n",
       "4    spam\n",
       "Name: type, dtype: object"
      ]
     },
     "execution_count": 27,
     "metadata": {},
     "output_type": "execute_result"
    }
   ],
   "source": [
    "df['type'].head() # df.type.head()"
   ]
  },
  {
   "cell_type": "code",
   "execution_count": 28,
   "metadata": {
    "scrolled": true
   },
   "outputs": [
    {
     "data": {
      "text/plain": [
       "0    0\n",
       "1    0\n",
       "2    0\n",
       "3    1\n",
       "4    1\n",
       "Name: type, dtype: int64"
      ]
     },
     "execution_count": 28,
     "metadata": {},
     "output_type": "execute_result"
    }
   ],
   "source": [
    "df.type.map({'ham' : 0, 'spam' : 1}).head()\n",
    "# df['type'].map({'ham' : 0, 'spam' : 1}).head()"
   ]
  },
  {
   "cell_type": "code",
   "execution_count": 29,
   "metadata": {},
   "outputs": [],
   "source": [
    "#데이터 프레임 자료를 array 형태로 변형 \n",
    "import numpy as np\n",
    "y = np.array(df.type.map({'ham' : 0, 'spam' : 1}))\n",
    "# y=np.array(df['type'].map({'ham' : 0, 'spam' : 1}))"
   ]
  },
  {
   "cell_type": "code",
   "execution_count": 30,
   "metadata": {},
   "outputs": [
    {
     "data": {
      "text/plain": [
       "array([0, 0, 0, ..., 1, 1, 0], dtype=int64)"
      ]
     },
     "execution_count": 30,
     "metadata": {},
     "output_type": "execute_result"
    }
   ],
   "source": [
    "y"
   ]
  },
  {
   "cell_type": "code",
   "execution_count": 31,
   "metadata": {},
   "outputs": [
    {
     "data": {
      "text/plain": [
       "(5559,)"
      ]
     },
     "execution_count": 31,
     "metadata": {},
     "output_type": "execute_result"
    }
   ],
   "source": [
    "y.shape"
   ]
  },
  {
   "cell_type": "markdown",
   "metadata": {},
   "source": [
    "# Train, Test set 나누기"
   ]
  },
  {
   "cell_type": "code",
   "execution_count": 32,
   "metadata": {
    "scrolled": false
   },
   "outputs": [
    {
     "data": {
      "text/plain": [
       "4447.2"
      ]
     },
     "execution_count": 32,
     "metadata": {},
     "output_type": "execute_result"
    }
   ],
   "source": [
    "X.shape[0]*0.8"
   ]
  },
  {
   "cell_type": "code",
   "execution_count": 33,
   "metadata": {},
   "outputs": [
    {
     "data": {
      "text/plain": [
       "<5559x8589 sparse matrix of type '<class 'numpy.int64'>'\n",
       "\twith 70442 stored elements in Compressed Sparse Row format>"
      ]
     },
     "execution_count": 33,
     "metadata": {},
     "output_type": "execute_result"
    }
   ],
   "source": [
    "X"
   ]
  },
  {
   "cell_type": "code",
   "execution_count": 34,
   "metadata": {},
   "outputs": [
    {
     "data": {
      "text/plain": [
       "array([0, 0, 0, ..., 1, 1, 0], dtype=int64)"
      ]
     },
     "execution_count": 34,
     "metadata": {},
     "output_type": "execute_result"
    }
   ],
   "source": [
    "y"
   ]
  },
  {
   "cell_type": "code",
   "execution_count": 35,
   "metadata": {},
   "outputs": [
    {
     "data": {
      "text/plain": [
       "((3891, 8589), (1668, 8589))"
      ]
     },
     "execution_count": 35,
     "metadata": {},
     "output_type": "execute_result"
    }
   ],
   "source": [
    "from sklearn.model_selection import train_test_split\n",
    "\n",
    "x_train, x_test = train_test_split(X, test_size=0.3, random_state=42)\n",
    "x_train.shape, x_test.shape"
   ]
  },
  {
   "cell_type": "markdown",
   "metadata": {},
   "source": [
    "## y(레이블) : (x, ) 형태\n",
    "* y=np.array(df['type'].map({'ham' : 0, 'spam' : 1}))\n",
    "* mapping 함수(map) : 범주형 - 연속형 변수 변환\n",
    "* df['Gender']=df['Gender'].replace('Male',0) 처럼 replace 한 후에 array로 변환해도 될 듯!"
   ]
  },
  {
   "cell_type": "code",
   "execution_count": 36,
   "metadata": {},
   "outputs": [
    {
     "data": {
      "text/plain": [
       "((3891,), (1668,))"
      ]
     },
     "execution_count": 36,
     "metadata": {},
     "output_type": "execute_result"
    }
   ],
   "source": [
    "y_train, y_test = train_test_split(y, test_size=0.3, random_state=42)\n",
    "y_train = np.array(y_train)\n",
    "y_test = np.array(y_test)\n",
    "y_train.shape, y_test.shape"
   ]
  },
  {
   "cell_type": "markdown",
   "metadata": {},
   "source": [
    "# 1. 베르누이 분포 나이브 베이즈"
   ]
  },
  {
   "cell_type": "code",
   "execution_count": 37,
   "metadata": {},
   "outputs": [],
   "source": [
    "from sklearn.naive_bayes import BernoulliNB\n",
    "model_bern = BernoulliNB()"
   ]
  },
  {
   "cell_type": "code",
   "execution_count": 38,
   "metadata": {},
   "outputs": [
    {
     "data": {
      "text/plain": [
       "BernoulliNB(alpha=1.0, binarize=0.0, class_prior=None, fit_prior=True)"
      ]
     },
     "execution_count": 38,
     "metadata": {},
     "output_type": "execute_result"
    }
   ],
   "source": [
    "model_bern.fit(x_train, y_train)"
   ]
  },
  {
   "cell_type": "code",
   "execution_count": 39,
   "metadata": {
    "scrolled": true
   },
   "outputs": [
    {
     "data": {
      "text/plain": [
       "array([0, 0, 0, ..., 0, 0, 0], dtype=int64)"
      ]
     },
     "execution_count": 39,
     "metadata": {},
     "output_type": "execute_result"
    }
   ],
   "source": [
    "pre = model_bern.predict(x_test)\n",
    "pre"
   ]
  },
  {
   "cell_type": "code",
   "execution_count": 40,
   "metadata": {},
   "outputs": [
    {
     "data": {
      "text/plain": [
       "array([0, 0, 0, ..., 0, 0, 0], dtype=int64)"
      ]
     },
     "execution_count": 40,
     "metadata": {},
     "output_type": "execute_result"
    }
   ],
   "source": [
    "y_test"
   ]
  },
  {
   "cell_type": "code",
   "execution_count": 41,
   "metadata": {},
   "outputs": [
    {
     "name": "stdout",
     "output_type": "stream",
     "text": [
      "0.9664268585131894\n"
     ]
    }
   ],
   "source": [
    "print((pre==y_test).mean())"
   ]
  },
  {
   "cell_type": "markdown",
   "metadata": {},
   "source": [
    "# scikit-learn의 교차검증 기능\n",
    "\n",
    "* https://datascienceschool.net/view-notebook/266d699d748847b3a3aa7b9805b846ae/"
   ]
  },
  {
   "cell_type": "markdown",
   "metadata": {},
   "source": [
    "### 단순 데이터 분리¶\n",
    "- 단순 데이터를 나누는 것과 교차검증의 차이 확인."
   ]
  },
  {
   "cell_type": "code",
   "execution_count": 42,
   "metadata": {},
   "outputs": [
    {
     "data": {
      "text/plain": [
       "((3891, 8589), (3891,), (1668, 8589), (1668,))"
      ]
     },
     "execution_count": 42,
     "metadata": {},
     "output_type": "execute_result"
    }
   ],
   "source": [
    "dfX_train, dfX_test, dfy_train, dfy_test = train_test_split(X, y, test_size=0.3, random_state=42)\n",
    "dfX_train.shape, dfy_train.shape, dfX_test.shape, dfy_test.shape"
   ]
  },
  {
   "cell_type": "markdown",
   "metadata": {},
   "source": [
    "- 교차 검증의 장점은 train_test_split와 비교해보면 train_test_split는 데이터를 무작위로 나눔. 데이터를 무작위로 나눌 때 \n",
    "- 훈련 세트 ==>  분류하기 어려운 샘플\n",
    "- 테스트세트 ==> 분류하기 쉬운 샘플\n",
    "- 테스트 세트의 정확도는 비현실적으로 높게 나올 것입니다. 반대의 경우라면 테스트 세트의 정확도는 비현실적으로 낮게 나옴\n",
    "\n",
    "- 그러나 교차 검증을 사용하면 테스트 세트에 각 샘플이 정확하게 한번씩 들어가고 각 샘플은 폴드 중 하나에 속하며 각 폴드는 한번씩 테스트 세트가 됨 그렇기 때문에 교차 검증의 점수를 높이기 위해서는 데이터 셋에 있는 모든 샘플에 대해 모델이 잘 일반화 되어야 함\n",
    "\n",
    "- 데이터를 여러개로 나누면 모델이 훈련 데이터에 얼마나 민감한지 알 수가 있음 \n",
    "- 교차 검증의 주요 단점은 연산 비용이 늘어남 모델을 k개 만들어야 하므로 데이터를 한 번 나눴을때보다 대략 k배 더 느림"
   ]
  },
  {
   "cell_type": "markdown",
   "metadata": {},
   "source": [
    "# K-fold 교차검증"
   ]
  },
  {
   "cell_type": "markdown",
   "metadata": {},
   "source": [
    "- scikit-learn 패키지의 model_selection 서브 패키지는 KFold 클래스를 비롯한 다양한 교차검증 생성기를 제공한다. 이 생성기의 split 메서드는 학습용과 검증용의 데이터 인덱스를 출력하는 파이썬 반복자(iterator)를 반환한다."
   ]
  },
  {
   "cell_type": "code",
   "execution_count": 43,
   "metadata": {},
   "outputs": [],
   "source": [
    "from sklearn.naive_bayes import BernoulliNB\n",
    "model_BNB = BernoulliNB()"
   ]
  },
  {
   "cell_type": "markdown",
   "metadata": {},
   "source": [
    "* KFold : scikit-learn 패키지의 model_selection 서브 패키지는 KFold 클래스를 비롯한 다양한 교차검증 생성기를 제공"
   ]
  },
  {
   "cell_type": "code",
   "execution_count": 44,
   "metadata": {},
   "outputs": [],
   "source": [
    "from sklearn.model_selection import KFold\n",
    "from sklearn.model_selection import cross_val_score"
   ]
  },
  {
   "cell_type": "markdown",
   "metadata": {},
   "source": [
    "* KFold 함수를 사용하려면 아래와 같이 코드가 길어진다\n"
   ]
  },
  {
   "cell_type": "code",
   "execution_count": 45,
   "metadata": {},
   "outputs": [],
   "source": [
    "# scores = np.zeros(5)\n",
    "# cv = KFold(5, shuffle=False, random_state=0)\n",
    "# for i, (idx_train, idx_test) in enumerate(cv.split(df)):\n",
    "#     df_train = df.iloc[idx_train]\n",
    "#     df_test = df.iloc[idx_test]\n",
    "    \n",
    "#     model = sm.OLS.from_formula(\"MEDV ~ \" + \"+\".join(boston.feature_names), data=df_train)\n",
    "#     result = model.fit()\n",
    "    \n",
    "#     pred = result.predict(df_test)\n",
    "#     rss = ((df_test.MEDV - pred) ** 2).sum()\n",
    "#     tss = ((df_test.MEDV - df_test.MEDV.mean())** 2).sum()\n",
    "#     rsquared = 1 - rss / tss\n",
    "    \n",
    "#     scores[i] = rsquared\n",
    "#     print(\"학습 R2 = {:.8f}, 검증 R2 = {:.8f}\".format(result.rsquared, rsquared))"
   ]
  },
  {
   "cell_type": "markdown",
   "metadata": {},
   "source": [
    "* cross_val_score : 교차검증을 반복하는 코드를 더 간단하게 만들어주는 함수 "
   ]
  },
  {
   "cell_type": "code",
   "execution_count": 46,
   "metadata": {},
   "outputs": [
    {
     "data": {
      "text/plain": [
       "array([0.9735564 , 0.97409606, 0.96438208])"
      ]
     },
     "execution_count": 46,
     "metadata": {},
     "output_type": "execute_result"
    }
   ],
   "source": [
    "cross_val_score(model_BNB, X, y, scoring=\"accuracy\") ##분류이므로 scoring = accuracy, 회기는 r2"
   ]
  },
  {
   "cell_type": "code",
   "execution_count": 47,
   "metadata": {
    "scrolled": true
   },
   "outputs": [
    {
     "data": {
      "text/plain": [
       "array([0.98203055, 0.96945193, 0.9729973 , 0.9729973 , 0.96579658])"
      ]
     },
     "execution_count": 47,
     "metadata": {},
     "output_type": "execute_result"
    }
   ],
   "source": [
    "cross_val_score(model_BNB, X, y, scoring=\"accuracy\", cv=5) #교차검증에서 데이터 전체를 넣어야 됨.\n",
    "# cross_val_score(model, X, y, scoring=None, cv=None)\n",
    "# model : 회귀 분석 모형\n",
    "# scoring : 성능 검증에 사용할 함수 이름\n",
    "# cv : 교차검증 생성기 객체 또는 숫자. None이면 KFold(3), 숫자 k이면 KFold(k)"
   ]
  },
  {
   "cell_type": "markdown",
   "metadata": {},
   "source": [
    "* 모델을 다시 튜닝한다기 보다는, 이미 만들어져 있는 모델로 교차검증을 해서 더 정확하게 분류한다는 의미같음."
   ]
  },
  {
   "cell_type": "code",
   "execution_count": 48,
   "metadata": {
    "scrolled": true
   },
   "outputs": [
    {
     "name": "stdout",
     "output_type": "stream",
     "text": [
      "교차검증 : 0.9726547317804558\n",
      "교차검증 X :  0.9664268585131894\n"
     ]
    },
    {
     "data": {
      "text/plain": [
       "(None, None)"
      ]
     },
     "execution_count": 48,
     "metadata": {},
     "output_type": "execute_result"
    }
   ],
   "source": [
    "print('교차검증 :', cross_val_score(model_BNB, X, y, scoring=\"accuracy\", cv=5).mean()), print('교차검증 X : ', (pre==y_test).mean())"
   ]
  },
  {
   "cell_type": "code",
   "execution_count": 49,
   "metadata": {},
   "outputs": [],
   "source": [
    "# cross_val_score(model_BNB, X, y, scoring=\"accuracy\", cv=5).mean(), cross_val_score(model_BNB, X, y, scoring=\"accuracy\", cv=cv).mean()"
   ]
  },
  {
   "cell_type": "markdown",
   "metadata": {},
   "source": [
    "# 가우시안 정규 분포 나이브 베이즈"
   ]
  }
 ],
 "metadata": {
  "kernelspec": {
   "display_name": "Python 3",
   "language": "python",
   "name": "python3"
  },
  "language_info": {
   "codemirror_mode": {
    "name": "ipython",
    "version": 3
   },
   "file_extension": ".py",
   "mimetype": "text/x-python",
   "name": "python",
   "nbconvert_exporter": "python",
   "pygments_lexer": "ipython3",
   "version": "3.6.5"
  }
 },
 "nbformat": 4,
 "nbformat_minor": 2
}
