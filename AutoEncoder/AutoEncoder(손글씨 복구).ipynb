{
 "cells": [
  {
   "cell_type": "markdown",
   "metadata": {},
   "source": [
    "## 라이브러리 로드"
   ]
  },
  {
   "cell_type": "code",
   "execution_count": 26,
   "metadata": {},
   "outputs": [],
   "source": [
    "import matplotlib.pyplot as plt\n",
    "import numpy as np\n",
    "from keras.datasets import mnist\n",
    "from keras.layers import Dense\n",
    "from keras.models import Sequential\n",
    "\n",
    "(x_train, _), (x_test, _) = mnist.load_data()"
   ]
  },
  {
   "cell_type": "code",
   "execution_count": 27,
   "metadata": {
    "scrolled": true
   },
   "outputs": [
    {
     "data": {
      "text/plain": [
       "(60000, 28, 28)"
      ]
     },
     "execution_count": 27,
     "metadata": {},
     "output_type": "execute_result"
    }
   ],
   "source": [
    "x_train.shape"
   ]
  },
  {
   "cell_type": "code",
   "execution_count": 28,
   "metadata": {},
   "outputs": [
    {
     "data": {
      "text/plain": [
       "array([7, 2, 1, ..., 4, 5, 6], dtype=uint8)"
      ]
     },
     "execution_count": 28,
     "metadata": {},
     "output_type": "execute_result"
    }
   ],
   "source": [
    "_"
   ]
  },
  {
   "cell_type": "code",
   "execution_count": 30,
   "metadata": {},
   "outputs": [
    {
     "data": {
      "text/plain": [
       "array([[  0,   0,   0,   0,   0,   0,   0,   0,   0,   0,   0,   0,   0,\n",
       "          0,   0,   0,   0,   0,   0,   0,   0,   0,   0,   0,   0,   0,\n",
       "          0,   0],\n",
       "       [  0,   0,   0,   0,   0,   0,   0,   0,   0,   0,   0,   0,   0,\n",
       "          0,   0,   0,   0,   0,   0,   0,   0,   0,   0,   0,   0,   0,\n",
       "          0,   0],\n",
       "       [  0,   0,   0,   0,   0,   0,   0,   0,   0,   0,   0,   0,   0,\n",
       "          0,   0,   0,   0,   0,   0,   0,   0,   0,   0,   0,   0,   0,\n",
       "          0,   0],\n",
       "       [  0,   0,   0,   0,   0,   0,   0,   0,   0,   0,   0,   0,   0,\n",
       "          0,   0,   0,   0,   0,   0,   0,   0,   0,   0,   0,   0,   0,\n",
       "          0,   0],\n",
       "       [  0,   0,   0,   0,   0,   0,   0,   0,   0,   0,   0,   0,   0,\n",
       "          0,   0,   0,   0,   0,   0,   0,   0,   0,   0,   0,   0,   0,\n",
       "          0,   0],\n",
       "       [  0,   0,   0,   0,   0,   0,   0,   0,   0,   0,   0,   0,   3,\n",
       "         18,  18,  18, 126, 136, 175,  26, 166, 255, 247, 127,   0,   0,\n",
       "          0,   0],\n",
       "       [  0,   0,   0,   0,   0,   0,   0,   0,  30,  36,  94, 154, 170,\n",
       "        253, 253, 253, 253, 253, 225, 172, 253, 242, 195,  64,   0,   0,\n",
       "          0,   0],\n",
       "       [  0,   0,   0,   0,   0,   0,   0,  49, 238, 253, 253, 253, 253,\n",
       "        253, 253, 253, 253, 251,  93,  82,  82,  56,  39,   0,   0,   0,\n",
       "          0,   0],\n",
       "       [  0,   0,   0,   0,   0,   0,   0,  18, 219, 253, 253, 253, 253,\n",
       "        253, 198, 182, 247, 241,   0,   0,   0,   0,   0,   0,   0,   0,\n",
       "          0,   0],\n",
       "       [  0,   0,   0,   0,   0,   0,   0,   0,  80, 156, 107, 253, 253,\n",
       "        205,  11,   0,  43, 154,   0,   0,   0,   0,   0,   0,   0,   0,\n",
       "          0,   0],\n",
       "       [  0,   0,   0,   0,   0,   0,   0,   0,   0,  14,   1, 154, 253,\n",
       "         90,   0,   0,   0,   0,   0,   0,   0,   0,   0,   0,   0,   0,\n",
       "          0,   0],\n",
       "       [  0,   0,   0,   0,   0,   0,   0,   0,   0,   0,   0, 139, 253,\n",
       "        190,   2,   0,   0,   0,   0,   0,   0,   0,   0,   0,   0,   0,\n",
       "          0,   0],\n",
       "       [  0,   0,   0,   0,   0,   0,   0,   0,   0,   0,   0,  11, 190,\n",
       "        253,  70,   0,   0,   0,   0,   0,   0,   0,   0,   0,   0,   0,\n",
       "          0,   0],\n",
       "       [  0,   0,   0,   0,   0,   0,   0,   0,   0,   0,   0,   0,  35,\n",
       "        241, 225, 160, 108,   1,   0,   0,   0,   0,   0,   0,   0,   0,\n",
       "          0,   0],\n",
       "       [  0,   0,   0,   0,   0,   0,   0,   0,   0,   0,   0,   0,   0,\n",
       "         81, 240, 253, 253, 119,  25,   0,   0,   0,   0,   0,   0,   0,\n",
       "          0,   0],\n",
       "       [  0,   0,   0,   0,   0,   0,   0,   0,   0,   0,   0,   0,   0,\n",
       "          0,  45, 186, 253, 253, 150,  27,   0,   0,   0,   0,   0,   0,\n",
       "          0,   0],\n",
       "       [  0,   0,   0,   0,   0,   0,   0,   0,   0,   0,   0,   0,   0,\n",
       "          0,   0,  16,  93, 252, 253, 187,   0,   0,   0,   0,   0,   0,\n",
       "          0,   0],\n",
       "       [  0,   0,   0,   0,   0,   0,   0,   0,   0,   0,   0,   0,   0,\n",
       "          0,   0,   0,   0, 249, 253, 249,  64,   0,   0,   0,   0,   0,\n",
       "          0,   0],\n",
       "       [  0,   0,   0,   0,   0,   0,   0,   0,   0,   0,   0,   0,   0,\n",
       "          0,  46, 130, 183, 253, 253, 207,   2,   0,   0,   0,   0,   0,\n",
       "          0,   0],\n",
       "       [  0,   0,   0,   0,   0,   0,   0,   0,   0,   0,   0,   0,  39,\n",
       "        148, 229, 253, 253, 253, 250, 182,   0,   0,   0,   0,   0,   0,\n",
       "          0,   0],\n",
       "       [  0,   0,   0,   0,   0,   0,   0,   0,   0,   0,  24, 114, 221,\n",
       "        253, 253, 253, 253, 201,  78,   0,   0,   0,   0,   0,   0,   0,\n",
       "          0,   0],\n",
       "       [  0,   0,   0,   0,   0,   0,   0,   0,  23,  66, 213, 253, 253,\n",
       "        253, 253, 198,  81,   2,   0,   0,   0,   0,   0,   0,   0,   0,\n",
       "          0,   0],\n",
       "       [  0,   0,   0,   0,   0,   0,  18, 171, 219, 253, 253, 253, 253,\n",
       "        195,  80,   9,   0,   0,   0,   0,   0,   0,   0,   0,   0,   0,\n",
       "          0,   0],\n",
       "       [  0,   0,   0,   0,  55, 172, 226, 253, 253, 253, 253, 244, 133,\n",
       "         11,   0,   0,   0,   0,   0,   0,   0,   0,   0,   0,   0,   0,\n",
       "          0,   0],\n",
       "       [  0,   0,   0,   0, 136, 253, 253, 253, 212, 135, 132,  16,   0,\n",
       "          0,   0,   0,   0,   0,   0,   0,   0,   0,   0,   0,   0,   0,\n",
       "          0,   0],\n",
       "       [  0,   0,   0,   0,   0,   0,   0,   0,   0,   0,   0,   0,   0,\n",
       "          0,   0,   0,   0,   0,   0,   0,   0,   0,   0,   0,   0,   0,\n",
       "          0,   0],\n",
       "       [  0,   0,   0,   0,   0,   0,   0,   0,   0,   0,   0,   0,   0,\n",
       "          0,   0,   0,   0,   0,   0,   0,   0,   0,   0,   0,   0,   0,\n",
       "          0,   0],\n",
       "       [  0,   0,   0,   0,   0,   0,   0,   0,   0,   0,   0,   0,   0,\n",
       "          0,   0,   0,   0,   0,   0,   0,   0,   0,   0,   0,   0,   0,\n",
       "          0,   0]], dtype=uint8)"
      ]
     },
     "execution_count": 30,
     "metadata": {},
     "output_type": "execute_result"
    }
   ],
   "source": [
    "x_train[0]"
   ]
  },
  {
   "cell_type": "code",
   "execution_count": 31,
   "metadata": {
    "scrolled": true
   },
   "outputs": [
    {
     "data": {
      "text/plain": [
       "array([[  0,   0,   0,   0,   0,   0,   0,   0,   0,   0,   0,   0,   0,\n",
       "          0,   0,   0,   0,   0,   0,   0,   0,   0,   0,   0,   0,   0,\n",
       "          0,   0],\n",
       "       [  0,   0,   0,   0,   0,   0,   0,   0,   0,   0,   0,   0,   0,\n",
       "          0,   0,   0,   0,   0,   0,   0,   0,   0,   0,   0,   0,   0,\n",
       "          0,   0],\n",
       "       [  0,   0,   0,   0,   0,   0,   0,   0,   0,   0,   0,   0,   0,\n",
       "          0,   0,   0,   0,   0,   0,   0,   0,   0,   0,   0,   0,   0,\n",
       "          0,   0],\n",
       "       [  0,   0,   0,   0,   0,   0,   0,   0,   0,   0, 116, 125, 171,\n",
       "        255, 255, 150,  93,   0,   0,   0,   0,   0,   0,   0,   0,   0,\n",
       "          0,   0],\n",
       "       [  0,   0,   0,   0,   0,   0,   0,   0,   0, 169, 253, 253, 253,\n",
       "        253, 253, 253, 218,  30,   0,   0,   0,   0,   0,   0,   0,   0,\n",
       "          0,   0],\n",
       "       [  0,   0,   0,   0,   0,   0,   0,   0, 169, 253, 253, 253, 213,\n",
       "        142, 176, 253, 253, 122,   0,   0,   0,   0,   0,   0,   0,   0,\n",
       "          0,   0],\n",
       "       [  0,   0,   0,   0,   0,   0,   0,  52, 250, 253, 210,  32,  12,\n",
       "          0,   6, 206, 253, 140,   0,   0,   0,   0,   0,   0,   0,   0,\n",
       "          0,   0],\n",
       "       [  0,   0,   0,   0,   0,   0,   0,  77, 251, 210,  25,   0,   0,\n",
       "          0, 122, 248, 253,  65,   0,   0,   0,   0,   0,   0,   0,   0,\n",
       "          0,   0],\n",
       "       [  0,   0,   0,   0,   0,   0,   0,   0,  31,  18,   0,   0,   0,\n",
       "          0, 209, 253, 253,  65,   0,   0,   0,   0,   0,   0,   0,   0,\n",
       "          0,   0],\n",
       "       [  0,   0,   0,   0,   0,   0,   0,   0,   0,   0,   0,   0,   0,\n",
       "        117, 247, 253, 198,  10,   0,   0,   0,   0,   0,   0,   0,   0,\n",
       "          0,   0],\n",
       "       [  0,   0,   0,   0,   0,   0,   0,   0,   0,   0,   0,   0,  76,\n",
       "        247, 253, 231,  63,   0,   0,   0,   0,   0,   0,   0,   0,   0,\n",
       "          0,   0],\n",
       "       [  0,   0,   0,   0,   0,   0,   0,   0,   0,   0,   0,   0, 128,\n",
       "        253, 253, 144,   0,   0,   0,   0,   0,   0,   0,   0,   0,   0,\n",
       "          0,   0],\n",
       "       [  0,   0,   0,   0,   0,   0,   0,   0,   0,   0,   0, 176, 246,\n",
       "        253, 159,  12,   0,   0,   0,   0,   0,   0,   0,   0,   0,   0,\n",
       "          0,   0],\n",
       "       [  0,   0,   0,   0,   0,   0,   0,   0,   0,   0,  25, 234, 253,\n",
       "        233,  35,   0,   0,   0,   0,   0,   0,   0,   0,   0,   0,   0,\n",
       "          0,   0],\n",
       "       [  0,   0,   0,   0,   0,   0,   0,   0,   0,   0, 198, 253, 253,\n",
       "        141,   0,   0,   0,   0,   0,   0,   0,   0,   0,   0,   0,   0,\n",
       "          0,   0],\n",
       "       [  0,   0,   0,   0,   0,   0,   0,   0,   0,  78, 248, 253, 189,\n",
       "         12,   0,   0,   0,   0,   0,   0,   0,   0,   0,   0,   0,   0,\n",
       "          0,   0],\n",
       "       [  0,   0,   0,   0,   0,   0,   0,   0,  19, 200, 253, 253, 141,\n",
       "          0,   0,   0,   0,   0,   0,   0,   0,   0,   0,   0,   0,   0,\n",
       "          0,   0],\n",
       "       [  0,   0,   0,   0,   0,   0,   0,   0, 134, 253, 253, 173,  12,\n",
       "          0,   0,   0,   0,   0,   0,   0,   0,   0,   0,   0,   0,   0,\n",
       "          0,   0],\n",
       "       [  0,   0,   0,   0,   0,   0,   0,   0, 248, 253, 253,  25,   0,\n",
       "          0,   0,   0,   0,   0,   0,   0,   0,   0,   0,   0,   0,   0,\n",
       "          0,   0],\n",
       "       [  0,   0,   0,   0,   0,   0,   0,   0, 248, 253, 253,  43,  20,\n",
       "         20,  20,  20,   5,   0,   5,  20,  20,  37, 150, 150, 150, 147,\n",
       "         10,   0],\n",
       "       [  0,   0,   0,   0,   0,   0,   0,   0, 248, 253, 253, 253, 253,\n",
       "        253, 253, 253, 168, 143, 166, 253, 253, 253, 253, 253, 253, 253,\n",
       "        123,   0],\n",
       "       [  0,   0,   0,   0,   0,   0,   0,   0, 174, 253, 253, 253, 253,\n",
       "        253, 253, 253, 253, 253, 253, 253, 249, 247, 247, 169, 117, 117,\n",
       "         57,   0],\n",
       "       [  0,   0,   0,   0,   0,   0,   0,   0,   0, 118, 123, 123, 123,\n",
       "        166, 253, 253, 253, 155, 123, 123,  41,   0,   0,   0,   0,   0,\n",
       "          0,   0],\n",
       "       [  0,   0,   0,   0,   0,   0,   0,   0,   0,   0,   0,   0,   0,\n",
       "          0,   0,   0,   0,   0,   0,   0,   0,   0,   0,   0,   0,   0,\n",
       "          0,   0],\n",
       "       [  0,   0,   0,   0,   0,   0,   0,   0,   0,   0,   0,   0,   0,\n",
       "          0,   0,   0,   0,   0,   0,   0,   0,   0,   0,   0,   0,   0,\n",
       "          0,   0],\n",
       "       [  0,   0,   0,   0,   0,   0,   0,   0,   0,   0,   0,   0,   0,\n",
       "          0,   0,   0,   0,   0,   0,   0,   0,   0,   0,   0,   0,   0,\n",
       "          0,   0],\n",
       "       [  0,   0,   0,   0,   0,   0,   0,   0,   0,   0,   0,   0,   0,\n",
       "          0,   0,   0,   0,   0,   0,   0,   0,   0,   0,   0,   0,   0,\n",
       "          0,   0],\n",
       "       [  0,   0,   0,   0,   0,   0,   0,   0,   0,   0,   0,   0,   0,\n",
       "          0,   0,   0,   0,   0,   0,   0,   0,   0,   0,   0,   0,   0,\n",
       "          0,   0]], dtype=uint8)"
      ]
     },
     "execution_count": 31,
     "metadata": {},
     "output_type": "execute_result"
    }
   ],
   "source": [
    "x_test[1]"
   ]
  },
  {
   "cell_type": "code",
   "execution_count": 32,
   "metadata": {},
   "outputs": [
    {
     "data": {
      "text/plain": [
       "784"
      ]
     },
     "execution_count": 32,
     "metadata": {},
     "output_type": "execute_result"
    }
   ],
   "source": [
    "28 * 28"
   ]
  },
  {
   "cell_type": "markdown",
   "metadata": {},
   "source": [
    "## 스케일 및 형태 변환"
   ]
  },
  {
   "cell_type": "code",
   "execution_count": 33,
   "metadata": {},
   "outputs": [],
   "source": [
    "x_train = x_train.astype('float32') / 255 #최대값이 255 -> 최대값 1로 하는 스케일\n",
    "x_test = x_test.astype('float32') / 255\n",
    "\n",
    "x_train  = np.reshape(x_train, (len(x_train), 784))\n",
    "x_test = np.reshape(x_test, (len(x_test), 784))"
   ]
  },
  {
   "cell_type": "code",
   "execution_count": 34,
   "metadata": {
    "scrolled": true
   },
   "outputs": [
    {
     "data": {
      "text/plain": [
       "array([[0., 0., 0., ..., 0., 0., 0.],\n",
       "       [0., 0., 0., ..., 0., 0., 0.],\n",
       "       [0., 0., 0., ..., 0., 0., 0.],\n",
       "       ...,\n",
       "       [0., 0., 0., ..., 0., 0., 0.],\n",
       "       [0., 0., 0., ..., 0., 0., 0.],\n",
       "       [0., 0., 0., ..., 0., 0., 0.]], dtype=float32)"
      ]
     },
     "execution_count": 34,
     "metadata": {},
     "output_type": "execute_result"
    }
   ],
   "source": [
    "x_test"
   ]
  },
  {
   "cell_type": "markdown",
   "metadata": {},
   "source": [
    "    loc : float or array_like of floats\n",
    "        Mean (\"centre\") of the distribution.\n",
    "    scale : float or array_like of floats\n",
    "        Standard deviation (spread or \"width\") of the distribution.\n",
    "    size : int or tuple of ints, optional\n",
    "        Output shape.  If the given shape is, e.g., ``(m, n, k)``, then\n",
    "        ``m * n * k`` samples are drawn.  If size is ``None`` (default),\n",
    "        a single value is returned if ``loc`` and ``scale`` are both scalars.\n",
    "        Otherwise, ``np.broadcast(loc, scale).size`` samples are drawn."
   ]
  },
  {
   "cell_type": "markdown",
   "metadata": {},
   "source": [
    "## 노이즈를 추가한 변수 생성"
   ]
  },
  {
   "cell_type": "code",
   "execution_count": 35,
   "metadata": {},
   "outputs": [],
   "source": [
    "noise_factor = 0.5\n",
    "x_train_noisy = x_train + noise_factor * np.random.normal(loc=0.0 , scale = 1.0, size = x_train.shape) \n",
    "x_test_noisy = x_test + noise_factor * np.random.normal(loc=0.0 , scale = 1.0, size = x_test.shape)#평균0, 분산1, size는 원래대로하는 랜덤\n",
    "\n",
    "x_train_noisy = np.clip(x_train_noisy, 0., 1.) # np.clip(a, a_min, a_max, out=None)\n",
    "x_test_noisy  = np.clip(x_test_noisy, 0., 1.) # 0보다 작으면 0, 1보다 크면 1로 변환"
   ]
  },
  {
   "cell_type": "code",
   "execution_count": 36,
   "metadata": {
    "scrolled": true
   },
   "outputs": [
    {
     "data": {
      "text/plain": [
       "array([[0.        , 0.        , 0.        , ..., 0.        , 0.28919626,\n",
       "        0.28739782],\n",
       "       [0.        , 0.        , 0.        , ..., 0.16954039, 0.        ,\n",
       "        0.        ],\n",
       "       [0.        , 0.4096594 , 0.        , ..., 0.05696728, 0.87220504,\n",
       "        0.86639173],\n",
       "       ...,\n",
       "       [0.55350684, 0.        , 0.        , ..., 0.04687695, 0.        ,\n",
       "        0.36624013],\n",
       "       [0.        , 0.69506646, 0.16952364, ..., 0.13997527, 0.79671617,\n",
       "        0.02869463],\n",
       "       [0.37392378, 0.31763033, 0.82238894, ..., 0.        , 0.        ,\n",
       "        0.        ]])"
      ]
     },
     "execution_count": 36,
     "metadata": {},
     "output_type": "execute_result"
    }
   ],
   "source": [
    "x_train_noisy"
   ]
  },
  {
   "cell_type": "code",
   "execution_count": 41,
   "metadata": {},
   "outputs": [
    {
     "data": {
      "text/plain": [
       "(60000, 784)"
      ]
     },
     "execution_count": 41,
     "metadata": {},
     "output_type": "execute_result"
    }
   ],
   "source": [
    "x_train_noisy.shape"
   ]
  },
  {
   "cell_type": "markdown",
   "metadata": {},
   "source": [
    "## 모델링"
   ]
  },
  {
   "cell_type": "code",
   "execution_count": 37,
   "metadata": {},
   "outputs": [],
   "source": [
    "model = Sequential()\n",
    "model.add(Dense(128, activation= 'relu', input_dim = 784)) #여기부터 히든레이어!\n",
    "model.add(Dense(64, activation='relu'))\n",
    "model.add(Dense(32, activation='relu'))\n",
    "model.add(Dense(64, activation='relu'))\n",
    "model.add(Dense(128, activation='relu'))\n",
    "model.add(Dense(784, activation='sigmoid')) \n",
    "#활성함수를 뭘 쓰든 상관 없지만, 마지막 Dense에서 sigmoid 쓰면 \"맞은 것은 맞다, 아닌것은 아니다\"라고 명확하게 표현 할 것 같아서 써봄.\n",
    "# 뭘 쓰든 상관은 없음. 여러개 돌려보고 결과값이 잘 나오는 걸 쓰면 된다~\n",
    "model.compile(optimizer = 'adam', loss = 'binary_crossentropy')"
   ]
  },
  {
   "cell_type": "markdown",
   "metadata": {},
   "source": [
    "## 모델 Fit"
   ]
  },
  {
   "cell_type": "code",
   "execution_count": 38,
   "metadata": {},
   "outputs": [
    {
     "name": "stderr",
     "output_type": "stream",
     "text": [
      "C:\\Users\\user\\Anaconda3\\lib\\site-packages\\ipykernel_launcher.py:1: UserWarning: The `nb_epoch` argument in `fit` has been renamed `epochs`.\n",
      "  \"\"\"Entry point for launching an IPython kernel.\n"
     ]
    },
    {
     "name": "stdout",
     "output_type": "stream",
     "text": [
      "Train on 60000 samples, validate on 10000 samples\n",
      "Epoch 1/100\n",
      "60000/60000 [==============================] - 4s 61us/step - loss: 0.2641 - val_loss: 0.2032\n",
      "Epoch 2/100\n",
      "60000/60000 [==============================] - 4s 59us/step - loss: 0.1838 - val_loss: 0.1693\n",
      "Epoch 3/100\n",
      "60000/60000 [==============================] - 4s 62us/step - loss: 0.1652 - val_loss: 0.1595\n",
      "Epoch 4/100\n",
      "60000/60000 [==============================] - 4s 58us/step - loss: 0.1580 - val_loss: 0.1537\n",
      "Epoch 5/100\n",
      "60000/60000 [==============================] - 4s 65us/step - loss: 0.1529 - val_loss: 0.1500\n",
      "Epoch 6/100\n",
      "60000/60000 [==============================] - 4s 66us/step - loss: 0.1492 - val_loss: 0.1463\n",
      "Epoch 7/100\n",
      "60000/60000 [==============================] - 4s 61us/step - loss: 0.1456 - val_loss: 0.1431\n",
      "Epoch 8/100\n",
      "60000/60000 [==============================] - 4s 62us/step - loss: 0.1424 - val_loss: 0.1406\n",
      "Epoch 9/100\n",
      "60000/60000 [==============================] - 4s 68us/step - loss: 0.1398 - val_loss: 0.1382\n",
      "Epoch 10/100\n",
      "60000/60000 [==============================] - 4s 64us/step - loss: 0.1374 - val_loss: 0.1358\n",
      "Epoch 11/100\n",
      "60000/60000 [==============================] - 4s 64us/step - loss: 0.1354 - val_loss: 0.1340\n",
      "Epoch 12/100\n",
      "60000/60000 [==============================] - 4s 59us/step - loss: 0.1335 - val_loss: 0.1323\n",
      "Epoch 13/100\n",
      "60000/60000 [==============================] - 4s 63us/step - loss: 0.1320 - val_loss: 0.1312\n",
      "Epoch 14/100\n",
      "60000/60000 [==============================] - 4s 62us/step - loss: 0.1307 - val_loss: 0.1302\n",
      "Epoch 15/100\n",
      "60000/60000 [==============================] - 4s 60us/step - loss: 0.1296 - val_loss: 0.1291\n",
      "Epoch 16/100\n",
      "60000/60000 [==============================] - 4s 61us/step - loss: 0.1289 - val_loss: 0.1286\n",
      "Epoch 17/100\n",
      "60000/60000 [==============================] - 4s 59us/step - loss: 0.1280 - val_loss: 0.1276\n",
      "Epoch 18/100\n",
      "60000/60000 [==============================] - 4s 65us/step - loss: 0.1271 - val_loss: 0.1274\n",
      "Epoch 19/100\n",
      "60000/60000 [==============================] - 4s 61us/step - loss: 0.1265 - val_loss: 0.1263\n",
      "Epoch 20/100\n",
      "60000/60000 [==============================] - 4s 59us/step - loss: 0.1258 - val_loss: 0.1260\n",
      "Epoch 21/100\n",
      "60000/60000 [==============================] - 4s 60us/step - loss: 0.1251 - val_loss: 0.1256\n",
      "Epoch 22/100\n",
      "60000/60000 [==============================] - 4s 63us/step - loss: 0.1245 - val_loss: 0.1247\n",
      "Epoch 23/100\n",
      "60000/60000 [==============================] - 4s 64us/step - loss: 0.1239 - val_loss: 0.1254\n",
      "Epoch 24/100\n",
      "60000/60000 [==============================] - 4s 63us/step - loss: 0.1234 - val_loss: 0.1239\n",
      "Epoch 25/100\n",
      "60000/60000 [==============================] - 4s 59us/step - loss: 0.1230 - val_loss: 0.1234\n",
      "Epoch 26/100\n",
      "60000/60000 [==============================] - 4s 62us/step - loss: 0.1225 - val_loss: 0.1232\n",
      "Epoch 27/100\n",
      "60000/60000 [==============================] - 4s 62us/step - loss: 0.1220 - val_loss: 0.1234\n",
      "Epoch 28/100\n",
      "60000/60000 [==============================] - 4s 63us/step - loss: 0.1217 - val_loss: 0.1228\n",
      "Epoch 29/100\n",
      "60000/60000 [==============================] - 4s 64us/step - loss: 0.1212 - val_loss: 0.1222\n",
      "Epoch 30/100\n",
      "60000/60000 [==============================] - 4s 67us/step - loss: 0.1209 - val_loss: 0.1218\n",
      "Epoch 31/100\n",
      "60000/60000 [==============================] - 4s 64us/step - loss: 0.1206 - val_loss: 0.1218\n",
      "Epoch 32/100\n",
      "60000/60000 [==============================] - 4s 62us/step - loss: 0.1203 - val_loss: 0.1216\n",
      "Epoch 33/100\n",
      "60000/60000 [==============================] - 4s 61us/step - loss: 0.1200 - val_loss: 0.1211\n",
      "Epoch 34/100\n",
      "60000/60000 [==============================] - 4s 63us/step - loss: 0.1197 - val_loss: 0.1210\n",
      "Epoch 35/100\n",
      "60000/60000 [==============================] - 4s 64us/step - loss: 0.1194 - val_loss: 0.1218\n",
      "Epoch 36/100\n",
      "60000/60000 [==============================] - 4s 61us/step - loss: 0.1193 - val_loss: 0.1210\n",
      "Epoch 37/100\n",
      "60000/60000 [==============================] - 4s 62us/step - loss: 0.1190 - val_loss: 0.1205\n",
      "Epoch 38/100\n",
      "60000/60000 [==============================] - 4s 59us/step - loss: 0.1188 - val_loss: 0.1203\n",
      "Epoch 39/100\n",
      "60000/60000 [==============================] - 4s 61us/step - loss: 0.1185 - val_loss: 0.1201\n",
      "Epoch 40/100\n",
      "60000/60000 [==============================] - 4s 61us/step - loss: 0.1183 - val_loss: 0.1198\n",
      "Epoch 41/100\n",
      "60000/60000 [==============================] - 3s 57us/step - loss: 0.1180 - val_loss: 0.1200\n",
      "Epoch 42/100\n",
      "60000/60000 [==============================] - 3s 58us/step - loss: 0.1179 - val_loss: 0.1193\n",
      "Epoch 43/100\n",
      "60000/60000 [==============================] - 4s 61us/step - loss: 0.1177 - val_loss: 0.1192\n",
      "Epoch 44/100\n",
      "60000/60000 [==============================] - 4s 61us/step - loss: 0.1175 - val_loss: 0.1194\n",
      "Epoch 45/100\n",
      "60000/60000 [==============================] - 4s 60us/step - loss: 0.1173 - val_loss: 0.1190\n",
      "Epoch 46/100\n",
      "60000/60000 [==============================] - 4s 60us/step - loss: 0.1171 - val_loss: 0.1194\n",
      "Epoch 47/100\n",
      "60000/60000 [==============================] - 4s 59us/step - loss: 0.1170 - val_loss: 0.1188\n",
      "Epoch 48/100\n",
      "60000/60000 [==============================] - 4s 64us/step - loss: 0.1168 - val_loss: 0.1185\n",
      "Epoch 49/100\n",
      "60000/60000 [==============================] - 4s 63us/step - loss: 0.1166 - val_loss: 0.1187\n",
      "Epoch 50/100\n",
      "60000/60000 [==============================] - 4s 59us/step - loss: 0.1164 - val_loss: 0.1193\n",
      "Epoch 51/100\n",
      "60000/60000 [==============================] - 4s 59us/step - loss: 0.1162 - val_loss: 0.1180\n",
      "Epoch 52/100\n",
      "60000/60000 [==============================] - 4s 64us/step - loss: 0.1161 - val_loss: 0.1183\n",
      "Epoch 53/100\n",
      "60000/60000 [==============================] - 4s 63us/step - loss: 0.1160 - val_loss: 0.1181\n",
      "Epoch 54/100\n",
      "60000/60000 [==============================] - 4s 63us/step - loss: 0.1159 - val_loss: 0.1184\n",
      "Epoch 55/100\n",
      "60000/60000 [==============================] - 4s 60us/step - loss: 0.1157 - val_loss: 0.1182\n",
      "Epoch 56/100\n",
      "60000/60000 [==============================] - 4s 62us/step - loss: 0.1155 - val_loss: 0.1177\n",
      "Epoch 57/100\n",
      "60000/60000 [==============================] - 4s 66us/step - loss: 0.1153 - val_loss: 0.1172\n",
      "Epoch 58/100\n",
      "60000/60000 [==============================] - 4s 61us/step - loss: 0.1152 - val_loss: 0.1173\n",
      "Epoch 59/100\n",
      "60000/60000 [==============================] - 4s 61us/step - loss: 0.1151 - val_loss: 0.1174\n",
      "Epoch 60/100\n",
      "60000/60000 [==============================] - 4s 62us/step - loss: 0.1149 - val_loss: 0.1172\n",
      "Epoch 61/100\n",
      "60000/60000 [==============================] - 4s 64us/step - loss: 0.1147 - val_loss: 0.1173\n",
      "Epoch 62/100\n",
      "60000/60000 [==============================] - 4s 64us/step - loss: 0.1146 - val_loss: 0.1172\n",
      "Epoch 63/100\n",
      "60000/60000 [==============================] - 4s 60us/step - loss: 0.1145 - val_loss: 0.1173\n",
      "Epoch 64/100\n",
      "60000/60000 [==============================] - 4s 61us/step - loss: 0.1144 - val_loss: 0.1172\n",
      "Epoch 65/100\n",
      "60000/60000 [==============================] - 4s 65us/step - loss: 0.1143 - val_loss: 0.1169\n",
      "Epoch 66/100\n",
      "60000/60000 [==============================] - 4s 62us/step - loss: 0.1142 - val_loss: 0.1167\n",
      "Epoch 67/100\n",
      "60000/60000 [==============================] - 4s 61us/step - loss: 0.1141 - val_loss: 0.1166\n",
      "Epoch 68/100\n",
      "60000/60000 [==============================] - 4s 61us/step - loss: 0.1140 - val_loss: 0.1166\n",
      "Epoch 69/100\n",
      "60000/60000 [==============================] - 4s 63us/step - loss: 0.1139 - val_loss: 0.1165\n",
      "Epoch 70/100\n",
      "60000/60000 [==============================] - 4s 65us/step - loss: 0.1138 - val_loss: 0.1162\n",
      "Epoch 71/100\n",
      "60000/60000 [==============================] - 4s 60us/step - loss: 0.1136 - val_loss: 0.1165\n",
      "Epoch 72/100\n",
      "60000/60000 [==============================] - 4s 60us/step - loss: 0.1136 - val_loss: 0.1166\n",
      "Epoch 73/100\n",
      "60000/60000 [==============================] - 4s 62us/step - loss: 0.1134 - val_loss: 0.1164\n",
      "Epoch 74/100\n",
      "60000/60000 [==============================] - 4s 64us/step - loss: 0.1134 - val_loss: 0.1161\n",
      "Epoch 75/100\n",
      "60000/60000 [==============================] - 4s 63us/step - loss: 0.1133 - val_loss: 0.1164\n",
      "Epoch 76/100\n",
      "60000/60000 [==============================] - 4s 61us/step - loss: 0.1132 - val_loss: 0.1159\n",
      "Epoch 77/100\n"
     ]
    },
    {
     "name": "stdout",
     "output_type": "stream",
     "text": [
      "60000/60000 [==============================] - 3s 58us/step - loss: 0.1131 - val_loss: 0.1158\n",
      "Epoch 78/100\n",
      "60000/60000 [==============================] - 4s 62us/step - loss: 0.1130 - val_loss: 0.1159\n",
      "Epoch 79/100\n",
      "60000/60000 [==============================] - 4s 59us/step - loss: 0.1129 - val_loss: 0.1157\n",
      "Epoch 80/100\n",
      "60000/60000 [==============================] - 3s 58us/step - loss: 0.1129 - val_loss: 0.1157\n",
      "Epoch 81/100\n",
      "60000/60000 [==============================] - 4s 60us/step - loss: 0.1128 - val_loss: 0.1154\n",
      "Epoch 82/100\n",
      "60000/60000 [==============================] - 3s 58us/step - loss: 0.1127 - val_loss: 0.1156\n",
      "Epoch 83/100\n",
      "60000/60000 [==============================] - 4s 63us/step - loss: 0.1126 - val_loss: 0.1155\n",
      "Epoch 84/100\n",
      "60000/60000 [==============================] - 4s 60us/step - loss: 0.1126 - val_loss: 0.1155\n",
      "Epoch 85/100\n",
      "60000/60000 [==============================] - 3s 57us/step - loss: 0.1125 - val_loss: 0.1152\n",
      "Epoch 86/100\n",
      "60000/60000 [==============================] - 3s 57us/step - loss: 0.1124 - val_loss: 0.1157\n",
      "Epoch 87/100\n",
      "60000/60000 [==============================] - 4s 62us/step - loss: 0.1124 - val_loss: 0.1152\n",
      "Epoch 88/100\n",
      "60000/60000 [==============================] - 4s 61us/step - loss: 0.1123 - val_loss: 0.1157\n",
      "Epoch 89/100\n",
      "60000/60000 [==============================] - 3s 57us/step - loss: 0.1122 - val_loss: 0.1153\n",
      "Epoch 90/100\n",
      "60000/60000 [==============================] - 3s 57us/step - loss: 0.1122 - val_loss: 0.1153\n",
      "Epoch 91/100\n",
      "60000/60000 [==============================] - 3s 58us/step - loss: 0.1121 - val_loss: 0.1152\n",
      "Epoch 92/100\n",
      "60000/60000 [==============================] - 4s 64us/step - loss: 0.1120 - val_loss: 0.1152\n",
      "Epoch 93/100\n",
      "60000/60000 [==============================] - 4s 59us/step - loss: 0.1120 - val_loss: 0.1157\n",
      "Epoch 94/100\n",
      "60000/60000 [==============================] - 3s 58us/step - loss: 0.1118 - val_loss: 0.1150\n",
      "Epoch 95/100\n",
      "60000/60000 [==============================] - 4s 59us/step - loss: 0.1118 - val_loss: 0.1150\n",
      "Epoch 96/100\n",
      "60000/60000 [==============================] - 4s 60us/step - loss: 0.1117 - val_loss: 0.1150\n",
      "Epoch 97/100\n",
      "60000/60000 [==============================] - 4s 60us/step - loss: 0.1117 - val_loss: 0.1152\n",
      "Epoch 98/100\n",
      "60000/60000 [==============================] - 3s 58us/step - loss: 0.1117 - val_loss: 0.1147\n",
      "Epoch 99/100\n",
      "60000/60000 [==============================] - 3s 56us/step - loss: 0.1115 - val_loss: 0.1147\n",
      "Epoch 100/100\n",
      "60000/60000 [==============================] - 3s 56us/step - loss: 0.1115 - val_loss: 0.1150\n"
     ]
    },
    {
     "data": {
      "text/plain": [
       "<keras.callbacks.History at 0x15de980e358>"
      ]
     },
     "execution_count": 38,
     "metadata": {},
     "output_type": "execute_result"
    }
   ],
   "source": [
    "model.fit(x_train_noisy, x_train, nb_epoch = 100, batch_size=256, shuffle=True, validation_data=(x_test_noisy, x_test))"
   ]
  },
  {
   "cell_type": "code",
   "execution_count": 39,
   "metadata": {},
   "outputs": [],
   "source": [
    "decoded_imgs = model.predict(x_test_noisy)"
   ]
  },
  {
   "cell_type": "markdown",
   "metadata": {},
   "source": [
    "## original vs 예측값 시각화"
   ]
  },
  {
   "cell_type": "code",
   "execution_count": 40,
   "metadata": {},
   "outputs": [
    {
     "data": {
      "image/png": "[encoded data removed]",
      "text/plain": [
       "<Figure size 1440x432 with 18 Axes>"
      ]
     },
     "metadata": {},
     "output_type": "display_data"
    }
   ],
   "source": [
    "# decoded_imgs = model.predict(x_test_noisy)\n",
    "\n",
    "n=10\n",
    "plt.figure(figsize =(20,6))\n",
    "for i in range(1,n):\n",
    "    #display original\n",
    "    ax =plt.subplot(3,n,i) # subplot(nrows, ncols, index, **kwargs)\n",
    "    plt.imshow(x_test_noisy[i].reshape(28,28,)) \n",
    "    plt.gray()\n",
    "    ax.get_xaxis().set_visible(False)\n",
    "    ax.get_yaxis().set_visible(False)\n",
    "    \n",
    "    #display reconstruction\n",
    "    ax=plt.subplot(3, n, i+2*n)\n",
    "    plt.imshow(decoded_imgs[i].reshape(28,28,))\n",
    "    plt.gray()\n",
    "    ax.get_xaxis().set_visible(False)\n",
    "    ax.get_yaxis().set_visible(False)\n",
    "plt.show()"
   ]
  }
 ],
 "metadata": {
  "kernelspec": {
   "display_name": "Python 3",
   "language": "python",
   "name": "python3"
  },
  "language_info": {
   "codemirror_mode": {
    "name": "ipython",
    "version": 3
   },
   "file_extension": ".py",
   "mimetype": "text/x-python",
   "name": "python",
   "nbconvert_exporter": "python",
   "pygments_lexer": "ipython3",
   "version": "3.6.5"
  }
 },
 "nbformat": 4,
 "nbformat_minor": 2
}
